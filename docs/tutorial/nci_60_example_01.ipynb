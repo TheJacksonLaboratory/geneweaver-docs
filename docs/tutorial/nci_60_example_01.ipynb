{
  "nbformat": 4,
  "nbformat_minor": 0,
  "metadata": {
    "colab": {
      "provenance": []
    },
    "kernelspec": {
      "name": "python3",
      "display_name": "Python 3"
    },
    "language_info": {
      "name": "python"
    }
  },
  "cells": [
    {
      "cell_type": "markdown",
      "source": [
        "## Overview\n",
        "This tutorial demonstrates how Geneweaver's tools can play a part in data science workflows realting to finding and organizin genomic data of interetst.\n",
        "\n",
        "It loosely follows the statiscal workflow presented in section 12.5.4 in [An Introduction to Statistical Learning](https://www.statlearning.com/) with Applications in R (ISLR)."
      ],
      "metadata": {
        "id": "gDCDK2KyR3mQ"
      }
    },
    {
      "cell_type": "markdown",
      "source": [
        "## Install Required Packages\n",
        "This tutorial depends on the `geneweaver-client` library, as well as `scikit-learn`, `matplotlib`, and `scipy`. Installing `geneweaver-client` will also install the `pandas` and `numpy` packages.\n",
        "\n",
        "If you are running this in Google CoLab, `matplotlib` and `scipy` should be pre-installed.\n",
        "\n",
        "If you have already downloaded `geneweaver-client`, you will need to make sure you have version `0.2.0a0` or higher.\n"
      ],
      "metadata": {
        "id": "VlC0JYlsxACW"
      }
    },
    {
      "cell_type": "code",
      "execution_count": null,
      "metadata": {
        "id": "5TW_0WPCZtPJ"
      },
      "outputs": [],
      "source": [
        "!pip install geneweaver-client"
      ]
    },
    {
      "cell_type": "code",
      "source": [
        "!pip install scikit-learn"
      ],
      "metadata": {
        "id": "Gx6BPjbUoA6f"
      },
      "execution_count": null,
      "outputs": []
    },
    {
      "cell_type": "markdown",
      "source": [
        "## Initialize the Example Dataset\n",
        "The `geneweaver-client` package comes with example datasets to help you get started. This tutorial will use a dataset from NCI-60 cancer dataset so as to align with the exercises found in Chapter 12.5.4 in [An Introduction to Statistical Learning](https://www.statlearning.com/) (ISLR)."
      ],
      "metadata": {
        "id": "gKOSClq6xu9k"
      }
    },
    {
      "cell_type": "code",
      "source": [
        "from geneweaver.client.datasets.nci60 import DNACombinedaCGHGeneSummary"
      ],
      "metadata": {
        "id": "0lwRckMrZwe8"
      },
      "execution_count": 3,
      "outputs": []
    },
    {
      "cell_type": "code",
      "source": [
        "# Initializing the dataset will download the required data from nci.nih.gov\n",
        "ds = DNACombinedaCGHGeneSummary()"
      ],
      "metadata": {
        "id": "P-FE7xD3adeQ"
      },
      "execution_count": 4,
      "outputs": []
    },
    {
      "cell_type": "code",
      "source": [
        "# Use the LINKOUT attribute to get a link to the original data download page\n",
        "ds.LINKOUT"
      ],
      "metadata": {
        "colab": {
          "base_uri": "https://localhost:8080/",
          "height": 35
        },
        "id": "WSaHvAS7zR2T",
        "outputId": "ef2d2db0-5132-4444-c57e-cda4fa253de0"
      },
      "execution_count": 5,
      "outputs": [
        {
          "output_type": "execute_result",
          "data": {
            "text/plain": [
              "'https://discover.nci.nih.gov/cellminer/loadDownload.do'"
            ],
            "application/vnd.google.colaboratory.intrinsic+json": {
              "type": "string"
            }
          },
          "metadata": {},
          "execution_count": 5
        }
      ]
    },
    {
      "cell_type": "markdown",
      "source": [
        "## Explore The Dataset\n",
        "\n",
        "### Gene Identifiers\n",
        "This dataset comes with both gene symbols and entrez ids as possible identifiers."
      ],
      "metadata": {
        "id": "2nvmT-UezhDF"
      }
    },
    {
      "cell_type": "code",
      "source": [
        "ds.gene_names[:5]"
      ],
      "metadata": {
        "colab": {
          "base_uri": "https://localhost:8080/"
        },
        "id": "BEdkcJ61afDM",
        "outputId": "6514b312-a537-4300-b8c1-75a309d70522"
      },
      "execution_count": 6,
      "outputs": [
        {
          "output_type": "execute_result",
          "data": {
            "text/plain": [
              "0        C1orf222\n",
              "1          WASH7P\n",
              "2           OR4F5\n",
              "3       LOC729737\n",
              "4    LOC100288069\n",
              "Name: Gene name d, dtype: object"
            ]
          },
          "metadata": {},
          "execution_count": 6
        }
      ]
    },
    {
      "cell_type": "code",
      "source": [
        "ds.entrez_ids[:5]"
      ],
      "metadata": {
        "colab": {
          "base_uri": "https://localhost:8080/"
        },
        "id": "arOaPmfCapsW",
        "outputId": "6ec8484d-8756-449c-a335-4113131fc817"
      },
      "execution_count": 7,
      "outputs": [
        {
          "output_type": "execute_result",
          "data": {
            "text/plain": [
              "0       339457\n",
              "1       653635\n",
              "2        79501\n",
              "3       729737\n",
              "4    100288069\n",
              "Name: Entrez gene id e, dtype: int64"
            ]
          },
          "metadata": {},
          "execution_count": 7
        }
      ]
    },
    {
      "cell_type": "markdown",
      "source": [
        "### Intensity Values\n",
        "Following along with Chapter 12.5.4 in [An Introduction to Statistical Learning](https://www.statlearning.com/), we can get the intensity values for the NCI-60 dataset.\n",
        "\n",
        "This roughly matches the `nci.data <- NCI60$data` code in the ISLR text."
      ],
      "metadata": {
        "id": "j8mOFkje0cid"
      }
    },
    {
      "cell_type": "code",
      "source": [
        "intensity = ds.intensity.transpose()"
      ],
      "metadata": {
        "id": "f04HLL70azgx"
      },
      "execution_count": 8,
      "outputs": []
    },
    {
      "cell_type": "code",
      "source": [
        "intensity[:10]"
      ],
      "metadata": {
        "colab": {
          "base_uri": "https://localhost:8080/",
          "height": 392
        },
        "id": "PC50uSFDa-Y8",
        "outputId": "fe963898-ded6-45cc-bca7-aca1c03e6aee"
      },
      "execution_count": 9,
      "outputs": [
        {
          "output_type": "execute_result",
          "data": {
            "text/plain": [
              "               0      1      2      3      4      5      6      7      8      \\\n",
              "BR:MCF7       -0.229 -0.229 -0.229 -0.229 -0.229 -0.229 -0.229 -0.229 -0.229   \n",
              "BR:MDA-MB-231 -0.181 -0.181 -0.181 -0.181 -0.181 -0.181 -0.181 -0.181 -0.181   \n",
              "BR:HS 578T     0.214  0.214  0.214  0.214  0.214  0.214  0.214  0.214  0.214   \n",
              "BR:BT-549      0.303  0.303  0.303  0.303  0.303  0.303  0.303  0.303  0.303   \n",
              "BR:T-47D      -0.179 -0.179 -0.179 -0.179 -0.179 -0.179 -0.179 -0.179 -0.179   \n",
              "CNS:SF-268     0.388  0.388  0.388  0.388  0.388  0.388  0.388  0.388  0.388   \n",
              "CNS:SF-295    -0.029 -0.029 -0.029 -0.029 -0.029 -0.029 -0.029 -0.029 -0.029   \n",
              "CNS:SF-539     0.363  0.363  0.363  0.363  0.363  0.363  0.363  0.363  0.363   \n",
              "CNS:SNB-19     0.078  0.078  0.078  0.078  0.078  0.078  0.078  0.078  0.078   \n",
              "CNS:SNB-75     0.295  0.171  0.171  0.171  0.171  0.171  0.171  0.295  0.295   \n",
              "\n",
              "               9      ...  23390  23391  23392  23393  23394  23395  23396  \\\n",
              "BR:MCF7       -0.229  ...  0.054  0.387 -0.245  0.096  0.096  0.037 -0.071   \n",
              "BR:MDA-MB-231 -0.181  ...  0.321  0.305  0.134 -0.253 -0.205 -0.283 -0.213   \n",
              "BR:HS 578T     0.214  ...  0.171  0.191  0.100  0.394  0.394  0.361  0.417   \n",
              "BR:BT-549      0.303  ...  0.178  0.191 -0.100 -0.053 -0.024 -0.077 -0.022   \n",
              "BR:T-47D      -0.179  ...  0.341  0.341  0.124 -0.232 -0.207 -0.239 -0.205   \n",
              "CNS:SF-268     0.388  ...  0.359  0.388 -0.127 -0.018 -0.018 -0.142 -0.020   \n",
              "CNS:SF-295    -0.029  ... -0.053 -0.018  0.229  0.141  0.141  0.083  0.222   \n",
              "CNS:SF-539     0.363  ...  0.297  0.297 -0.029  0.127  0.127  0.027  0.131   \n",
              "CNS:SNB-19     0.078  ...  0.015  0.033 -0.236 -0.186 -0.186 -0.250 -0.100   \n",
              "CNS:SNB-75     0.295  ...  0.269  0.333  0.417  0.102  0.102  0.107  0.132   \n",
              "\n",
              "               23397  23398  23399  \n",
              "BR:MCF7       -0.071 -0.149 -0.149  \n",
              "BR:MDA-MB-231 -0.213 -0.265 -0.214  \n",
              "BR:HS 578T     0.417  0.417  0.417  \n",
              "BR:BT-549     -0.022 -0.022  0.008  \n",
              "BR:T-47D      -0.205 -0.205 -0.205  \n",
              "CNS:SF-268    -0.020 -0.030 -0.030  \n",
              "CNS:SF-295     0.154  0.140  0.140  \n",
              "CNS:SF-539     0.131  0.240  0.125  \n",
              "CNS:SNB-19    -0.156 -0.175 -0.127  \n",
              "CNS:SNB-75     0.132  0.108  0.161  \n",
              "\n",
              "[10 rows x 23400 columns]"
            ],
            "text/html": [
              "\n",
              "\n",
              "  <div id=\"df-e6520cf5-cb0b-492a-b181-b591804e64c5\">\n",
              "    <div class=\"colab-df-container\">\n",
              "      <div>\n",
              "<style scoped>\n",
              "    .dataframe tbody tr th:only-of-type {\n",
              "        vertical-align: middle;\n",
              "    }\n",
              "\n",
              "    .dataframe tbody tr th {\n",
              "        vertical-align: top;\n",
              "    }\n",
              "\n",
              "    .dataframe thead th {\n",
              "        text-align: right;\n",
              "    }\n",
              "</style>\n",
              "<table border=\"1\" class=\"dataframe\">\n",
              "  <thead>\n",
              "    <tr style=\"text-align: right;\">\n",
              "      <th></th>\n",
              "      <th>0</th>\n",
              "      <th>1</th>\n",
              "      <th>2</th>\n",
              "      <th>3</th>\n",
              "      <th>4</th>\n",
              "      <th>5</th>\n",
              "      <th>6</th>\n",
              "      <th>7</th>\n",
              "      <th>8</th>\n",
              "      <th>9</th>\n",
              "      <th>...</th>\n",
              "      <th>23390</th>\n",
              "      <th>23391</th>\n",
              "      <th>23392</th>\n",
              "      <th>23393</th>\n",
              "      <th>23394</th>\n",
              "      <th>23395</th>\n",
              "      <th>23396</th>\n",
              "      <th>23397</th>\n",
              "      <th>23398</th>\n",
              "      <th>23399</th>\n",
              "    </tr>\n",
              "  </thead>\n",
              "  <tbody>\n",
              "    <tr>\n",
              "      <th>BR:MCF7</th>\n",
              "      <td>-0.229</td>\n",
              "      <td>-0.229</td>\n",
              "      <td>-0.229</td>\n",
              "      <td>-0.229</td>\n",
              "      <td>-0.229</td>\n",
              "      <td>-0.229</td>\n",
              "      <td>-0.229</td>\n",
              "      <td>-0.229</td>\n",
              "      <td>-0.229</td>\n",
              "      <td>-0.229</td>\n",
              "      <td>...</td>\n",
              "      <td>0.054</td>\n",
              "      <td>0.387</td>\n",
              "      <td>-0.245</td>\n",
              "      <td>0.096</td>\n",
              "      <td>0.096</td>\n",
              "      <td>0.037</td>\n",
              "      <td>-0.071</td>\n",
              "      <td>-0.071</td>\n",
              "      <td>-0.149</td>\n",
              "      <td>-0.149</td>\n",
              "    </tr>\n",
              "    <tr>\n",
              "      <th>BR:MDA-MB-231</th>\n",
              "      <td>-0.181</td>\n",
              "      <td>-0.181</td>\n",
              "      <td>-0.181</td>\n",
              "      <td>-0.181</td>\n",
              "      <td>-0.181</td>\n",
              "      <td>-0.181</td>\n",
              "      <td>-0.181</td>\n",
              "      <td>-0.181</td>\n",
              "      <td>-0.181</td>\n",
              "      <td>-0.181</td>\n",
              "      <td>...</td>\n",
              "      <td>0.321</td>\n",
              "      <td>0.305</td>\n",
              "      <td>0.134</td>\n",
              "      <td>-0.253</td>\n",
              "      <td>-0.205</td>\n",
              "      <td>-0.283</td>\n",
              "      <td>-0.213</td>\n",
              "      <td>-0.213</td>\n",
              "      <td>-0.265</td>\n",
              "      <td>-0.214</td>\n",
              "    </tr>\n",
              "    <tr>\n",
              "      <th>BR:HS 578T</th>\n",
              "      <td>0.214</td>\n",
              "      <td>0.214</td>\n",
              "      <td>0.214</td>\n",
              "      <td>0.214</td>\n",
              "      <td>0.214</td>\n",
              "      <td>0.214</td>\n",
              "      <td>0.214</td>\n",
              "      <td>0.214</td>\n",
              "      <td>0.214</td>\n",
              "      <td>0.214</td>\n",
              "      <td>...</td>\n",
              "      <td>0.171</td>\n",
              "      <td>0.191</td>\n",
              "      <td>0.100</td>\n",
              "      <td>0.394</td>\n",
              "      <td>0.394</td>\n",
              "      <td>0.361</td>\n",
              "      <td>0.417</td>\n",
              "      <td>0.417</td>\n",
              "      <td>0.417</td>\n",
              "      <td>0.417</td>\n",
              "    </tr>\n",
              "    <tr>\n",
              "      <th>BR:BT-549</th>\n",
              "      <td>0.303</td>\n",
              "      <td>0.303</td>\n",
              "      <td>0.303</td>\n",
              "      <td>0.303</td>\n",
              "      <td>0.303</td>\n",
              "      <td>0.303</td>\n",
              "      <td>0.303</td>\n",
              "      <td>0.303</td>\n",
              "      <td>0.303</td>\n",
              "      <td>0.303</td>\n",
              "      <td>...</td>\n",
              "      <td>0.178</td>\n",
              "      <td>0.191</td>\n",
              "      <td>-0.100</td>\n",
              "      <td>-0.053</td>\n",
              "      <td>-0.024</td>\n",
              "      <td>-0.077</td>\n",
              "      <td>-0.022</td>\n",
              "      <td>-0.022</td>\n",
              "      <td>-0.022</td>\n",
              "      <td>0.008</td>\n",
              "    </tr>\n",
              "    <tr>\n",
              "      <th>BR:T-47D</th>\n",
              "      <td>-0.179</td>\n",
              "      <td>-0.179</td>\n",
              "      <td>-0.179</td>\n",
              "      <td>-0.179</td>\n",
              "      <td>-0.179</td>\n",
              "      <td>-0.179</td>\n",
              "      <td>-0.179</td>\n",
              "      <td>-0.179</td>\n",
              "      <td>-0.179</td>\n",
              "      <td>-0.179</td>\n",
              "      <td>...</td>\n",
              "      <td>0.341</td>\n",
              "      <td>0.341</td>\n",
              "      <td>0.124</td>\n",
              "      <td>-0.232</td>\n",
              "      <td>-0.207</td>\n",
              "      <td>-0.239</td>\n",
              "      <td>-0.205</td>\n",
              "      <td>-0.205</td>\n",
              "      <td>-0.205</td>\n",
              "      <td>-0.205</td>\n",
              "    </tr>\n",
              "    <tr>\n",
              "      <th>CNS:SF-268</th>\n",
              "      <td>0.388</td>\n",
              "      <td>0.388</td>\n",
              "      <td>0.388</td>\n",
              "      <td>0.388</td>\n",
              "      <td>0.388</td>\n",
              "      <td>0.388</td>\n",
              "      <td>0.388</td>\n",
              "      <td>0.388</td>\n",
              "      <td>0.388</td>\n",
              "      <td>0.388</td>\n",
              "      <td>...</td>\n",
              "      <td>0.359</td>\n",
              "      <td>0.388</td>\n",
              "      <td>-0.127</td>\n",
              "      <td>-0.018</td>\n",
              "      <td>-0.018</td>\n",
              "      <td>-0.142</td>\n",
              "      <td>-0.020</td>\n",
              "      <td>-0.020</td>\n",
              "      <td>-0.030</td>\n",
              "      <td>-0.030</td>\n",
              "    </tr>\n",
              "    <tr>\n",
              "      <th>CNS:SF-295</th>\n",
              "      <td>-0.029</td>\n",
              "      <td>-0.029</td>\n",
              "      <td>-0.029</td>\n",
              "      <td>-0.029</td>\n",
              "      <td>-0.029</td>\n",
              "      <td>-0.029</td>\n",
              "      <td>-0.029</td>\n",
              "      <td>-0.029</td>\n",
              "      <td>-0.029</td>\n",
              "      <td>-0.029</td>\n",
              "      <td>...</td>\n",
              "      <td>-0.053</td>\n",
              "      <td>-0.018</td>\n",
              "      <td>0.229</td>\n",
              "      <td>0.141</td>\n",
              "      <td>0.141</td>\n",
              "      <td>0.083</td>\n",
              "      <td>0.222</td>\n",
              "      <td>0.154</td>\n",
              "      <td>0.140</td>\n",
              "      <td>0.140</td>\n",
              "    </tr>\n",
              "    <tr>\n",
              "      <th>CNS:SF-539</th>\n",
              "      <td>0.363</td>\n",
              "      <td>0.363</td>\n",
              "      <td>0.363</td>\n",
              "      <td>0.363</td>\n",
              "      <td>0.363</td>\n",
              "      <td>0.363</td>\n",
              "      <td>0.363</td>\n",
              "      <td>0.363</td>\n",
              "      <td>0.363</td>\n",
              "      <td>0.363</td>\n",
              "      <td>...</td>\n",
              "      <td>0.297</td>\n",
              "      <td>0.297</td>\n",
              "      <td>-0.029</td>\n",
              "      <td>0.127</td>\n",
              "      <td>0.127</td>\n",
              "      <td>0.027</td>\n",
              "      <td>0.131</td>\n",
              "      <td>0.131</td>\n",
              "      <td>0.240</td>\n",
              "      <td>0.125</td>\n",
              "    </tr>\n",
              "    <tr>\n",
              "      <th>CNS:SNB-19</th>\n",
              "      <td>0.078</td>\n",
              "      <td>0.078</td>\n",
              "      <td>0.078</td>\n",
              "      <td>0.078</td>\n",
              "      <td>0.078</td>\n",
              "      <td>0.078</td>\n",
              "      <td>0.078</td>\n",
              "      <td>0.078</td>\n",
              "      <td>0.078</td>\n",
              "      <td>0.078</td>\n",
              "      <td>...</td>\n",
              "      <td>0.015</td>\n",
              "      <td>0.033</td>\n",
              "      <td>-0.236</td>\n",
              "      <td>-0.186</td>\n",
              "      <td>-0.186</td>\n",
              "      <td>-0.250</td>\n",
              "      <td>-0.100</td>\n",
              "      <td>-0.156</td>\n",
              "      <td>-0.175</td>\n",
              "      <td>-0.127</td>\n",
              "    </tr>\n",
              "    <tr>\n",
              "      <th>CNS:SNB-75</th>\n",
              "      <td>0.295</td>\n",
              "      <td>0.171</td>\n",
              "      <td>0.171</td>\n",
              "      <td>0.171</td>\n",
              "      <td>0.171</td>\n",
              "      <td>0.171</td>\n",
              "      <td>0.171</td>\n",
              "      <td>0.295</td>\n",
              "      <td>0.295</td>\n",
              "      <td>0.295</td>\n",
              "      <td>...</td>\n",
              "      <td>0.269</td>\n",
              "      <td>0.333</td>\n",
              "      <td>0.417</td>\n",
              "      <td>0.102</td>\n",
              "      <td>0.102</td>\n",
              "      <td>0.107</td>\n",
              "      <td>0.132</td>\n",
              "      <td>0.132</td>\n",
              "      <td>0.108</td>\n",
              "      <td>0.161</td>\n",
              "    </tr>\n",
              "  </tbody>\n",
              "</table>\n",
              "<p>10 rows × 23400 columns</p>\n",
              "</div>\n",
              "      <button class=\"colab-df-convert\" onclick=\"convertToInteractive('df-e6520cf5-cb0b-492a-b181-b591804e64c5')\"\n",
              "              title=\"Convert this dataframe to an interactive table.\"\n",
              "              style=\"display:none;\">\n",
              "\n",
              "  <svg xmlns=\"http://www.w3.org/2000/svg\" height=\"24px\"viewBox=\"0 0 24 24\"\n",
              "       width=\"24px\">\n",
              "    <path d=\"M0 0h24v24H0V0z\" fill=\"none\"/>\n",
              "    <path d=\"M18.56 5.44l.94 2.06.94-2.06 2.06-.94-2.06-.94-.94-2.06-.94 2.06-2.06.94zm-11 1L8.5 8.5l.94-2.06 2.06-.94-2.06-.94L8.5 2.5l-.94 2.06-2.06.94zm10 10l.94 2.06.94-2.06 2.06-.94-2.06-.94-.94-2.06-.94 2.06-2.06.94z\"/><path d=\"M17.41 7.96l-1.37-1.37c-.4-.4-.92-.59-1.43-.59-.52 0-1.04.2-1.43.59L10.3 9.45l-7.72 7.72c-.78.78-.78 2.05 0 2.83L4 21.41c.39.39.9.59 1.41.59.51 0 1.02-.2 1.41-.59l7.78-7.78 2.81-2.81c.8-.78.8-2.07 0-2.86zM5.41 20L4 18.59l7.72-7.72 1.47 1.35L5.41 20z\"/>\n",
              "  </svg>\n",
              "      </button>\n",
              "\n",
              "\n",
              "\n",
              "    <div id=\"df-fede09eb-a647-499f-b18e-524eeab6192d\">\n",
              "      <button class=\"colab-df-quickchart\" onclick=\"quickchart('df-fede09eb-a647-499f-b18e-524eeab6192d')\"\n",
              "              title=\"Suggest charts.\"\n",
              "              style=\"display:none;\">\n",
              "\n",
              "<svg xmlns=\"http://www.w3.org/2000/svg\" height=\"24px\"viewBox=\"0 0 24 24\"\n",
              "     width=\"24px\">\n",
              "    <g>\n",
              "        <path d=\"M19 3H5c-1.1 0-2 .9-2 2v14c0 1.1.9 2 2 2h14c1.1 0 2-.9 2-2V5c0-1.1-.9-2-2-2zM9 17H7v-7h2v7zm4 0h-2V7h2v10zm4 0h-2v-4h2v4z\"/>\n",
              "    </g>\n",
              "</svg>\n",
              "      </button>\n",
              "    </div>\n",
              "\n",
              "<style>\n",
              "  .colab-df-quickchart {\n",
              "    background-color: #E8F0FE;\n",
              "    border: none;\n",
              "    border-radius: 50%;\n",
              "    cursor: pointer;\n",
              "    display: none;\n",
              "    fill: #1967D2;\n",
              "    height: 32px;\n",
              "    padding: 0 0 0 0;\n",
              "    width: 32px;\n",
              "  }\n",
              "\n",
              "  .colab-df-quickchart:hover {\n",
              "    background-color: #E2EBFA;\n",
              "    box-shadow: 0px 1px 2px rgba(60, 64, 67, 0.3), 0px 1px 3px 1px rgba(60, 64, 67, 0.15);\n",
              "    fill: #174EA6;\n",
              "  }\n",
              "\n",
              "  [theme=dark] .colab-df-quickchart {\n",
              "    background-color: #3B4455;\n",
              "    fill: #D2E3FC;\n",
              "  }\n",
              "\n",
              "  [theme=dark] .colab-df-quickchart:hover {\n",
              "    background-color: #434B5C;\n",
              "    box-shadow: 0px 1px 3px 1px rgba(0, 0, 0, 0.15);\n",
              "    filter: drop-shadow(0px 1px 2px rgba(0, 0, 0, 0.3));\n",
              "    fill: #FFFFFF;\n",
              "  }\n",
              "</style>\n",
              "\n",
              "    <script>\n",
              "      async function quickchart(key) {\n",
              "        const containerElement = document.querySelector('#' + key);\n",
              "        const charts = await google.colab.kernel.invokeFunction(\n",
              "            'suggestCharts', [key], {});\n",
              "      }\n",
              "    </script>\n",
              "\n",
              "      <script>\n",
              "\n",
              "function displayQuickchartButton(domScope) {\n",
              "  let quickchartButtonEl =\n",
              "    domScope.querySelector('#df-fede09eb-a647-499f-b18e-524eeab6192d button.colab-df-quickchart');\n",
              "  quickchartButtonEl.style.display =\n",
              "    google.colab.kernel.accessAllowed ? 'block' : 'none';\n",
              "}\n",
              "\n",
              "        displayQuickchartButton(document);\n",
              "      </script>\n",
              "      <style>\n",
              "    .colab-df-container {\n",
              "      display:flex;\n",
              "      flex-wrap:wrap;\n",
              "      gap: 12px;\n",
              "    }\n",
              "\n",
              "    .colab-df-convert {\n",
              "      background-color: #E8F0FE;\n",
              "      border: none;\n",
              "      border-radius: 50%;\n",
              "      cursor: pointer;\n",
              "      display: none;\n",
              "      fill: #1967D2;\n",
              "      height: 32px;\n",
              "      padding: 0 0 0 0;\n",
              "      width: 32px;\n",
              "    }\n",
              "\n",
              "    .colab-df-convert:hover {\n",
              "      background-color: #E2EBFA;\n",
              "      box-shadow: 0px 1px 2px rgba(60, 64, 67, 0.3), 0px 1px 3px 1px rgba(60, 64, 67, 0.15);\n",
              "      fill: #174EA6;\n",
              "    }\n",
              "\n",
              "    [theme=dark] .colab-df-convert {\n",
              "      background-color: #3B4455;\n",
              "      fill: #D2E3FC;\n",
              "    }\n",
              "\n",
              "    [theme=dark] .colab-df-convert:hover {\n",
              "      background-color: #434B5C;\n",
              "      box-shadow: 0px 1px 3px 1px rgba(0, 0, 0, 0.15);\n",
              "      filter: drop-shadow(0px 1px 2px rgba(0, 0, 0, 0.3));\n",
              "      fill: #FFFFFF;\n",
              "    }\n",
              "  </style>\n",
              "\n",
              "      <script>\n",
              "        const buttonEl =\n",
              "          document.querySelector('#df-e6520cf5-cb0b-492a-b181-b591804e64c5 button.colab-df-convert');\n",
              "        buttonEl.style.display =\n",
              "          google.colab.kernel.accessAllowed ? 'block' : 'none';\n",
              "\n",
              "        async function convertToInteractive(key) {\n",
              "          const element = document.querySelector('#df-e6520cf5-cb0b-492a-b181-b591804e64c5');\n",
              "          const dataTable =\n",
              "            await google.colab.kernel.invokeFunction('convertToInteractive',\n",
              "                                                     [key], {});\n",
              "          if (!dataTable) return;\n",
              "\n",
              "          const docLinkHtml = 'Like what you see? Visit the ' +\n",
              "            '<a target=\"_blank\" href=https://colab.research.google.com/notebooks/data_table.ipynb>data table notebook</a>'\n",
              "            + ' to learn more about interactive tables.';\n",
              "          element.innerHTML = '';\n",
              "          dataTable['output_type'] = 'display_data';\n",
              "          await google.colab.output.renderOutput(dataTable, element);\n",
              "          const docLink = document.createElement('div');\n",
              "          docLink.innerHTML = docLinkHtml;\n",
              "          element.appendChild(docLink);\n",
              "        }\n",
              "      </script>\n",
              "    </div>\n",
              "  </div>\n"
            ]
          },
          "metadata": {},
          "execution_count": 9
        }
      ]
    },
    {
      "cell_type": "markdown",
      "source": [
        "## Find Data of Interest\n",
        "\n",
        "### Principal Components Analysis\n",
        "First, let's reproduce the Principal Component Analysis as performed in [An Introduction to Statistical Learning](https://www.statlearning.com/)."
      ],
      "metadata": {
        "id": "U4kAvArX1E9z"
      }
    },
    {
      "cell_type": "code",
      "source": [
        "from sklearn.preprocessing import StandardScaler\n",
        "from sklearn.decomposition import PCA"
      ],
      "metadata": {
        "id": "-mBKFqMDbsTs"
      },
      "execution_count": 10,
      "outputs": []
    },
    {
      "cell_type": "code",
      "source": [
        "scaler = StandardScaler()\n",
        "intensity_data_scaled = scaler.fit_transform(intensity)"
      ],
      "metadata": {
        "id": "eB6jfU3sb32X"
      },
      "execution_count": 11,
      "outputs": []
    },
    {
      "cell_type": "code",
      "source": [
        "pca = PCA()\n",
        "pr_out = pca.fit_transform(intensity_data_scaled)"
      ],
      "metadata": {
        "id": "H5Tnij7wb8pa"
      },
      "execution_count": 12,
      "outputs": []
    },
    {
      "cell_type": "code",
      "source": [
        "components = pca.components_"
      ],
      "metadata": {
        "id": "DEc-FuIocc9S"
      },
      "execution_count": 13,
      "outputs": []
    },
    {
      "cell_type": "code",
      "source": [
        "explained_variance = pca.explained_variance_"
      ],
      "metadata": {
        "id": "cZ_Mw9wWclNk"
      },
      "execution_count": 14,
      "outputs": []
    },
    {
      "cell_type": "markdown",
      "source": [
        "#### Projection Plots\n",
        "We reproduce here, in python, the projections of the NCI60 cancer cell lines onto the frst three principal components.\n",
        "\n",
        "This roughly matches the R code in the ISLR text:\n",
        "```\n",
        "> Cols <- function(vec) {\n",
        "+ cols <- rainbow(length(unique(vec)))\n",
        "+ return(cols[as.numeric(as.factor(vec))])\n",
        "+ }\n",
        "> par(mfrow = c(1, 2))\n",
        "> plot(pr.out$x[, 1:2], col = Cols(nci.labs), pch = 19,\n",
        "xlab = \"Z1\", ylab = \"Z2\")\n",
        "> plot(pr.out$x[, c(1, 3)], col = Cols(nci.labs), pch = 19,\n",
        "xlab = \"Z1\", ylab = \"Z3\")\n",
        "```"
      ],
      "metadata": {
        "id": "KPudo6oz4-Tn"
      }
    },
    {
      "cell_type": "code",
      "source": [
        "import numpy as np\n",
        "import matplotlib.pyplot as plt"
      ],
      "metadata": {
        "id": "k_Whtnlj5-7B"
      },
      "execution_count": 15,
      "outputs": []
    },
    {
      "cell_type": "code",
      "source": [
        "def cols(vec):\n",
        "    # Create a rainbow color palette for the unique values\n",
        "    unique_vals = np.unique(vec)\n",
        "    color_palette = plt.cm.rainbow(np.linspace(0, 1, len(unique_vals)))\n",
        "\n",
        "    # Create a dictionary to map each unique value to a color\n",
        "    color_map = {val: color_palette[i] for i, val in enumerate(unique_vals)}\n",
        "\n",
        "    # Return a list of colors corresponding to the values in vec\n",
        "    return [color_map[val] for val in vec]\n",
        "\n",
        "# Plotting\n",
        "fig, axes = plt.subplots(nrows=1, ncols=2, figsize=(12, 6))\n",
        "\n",
        "# 1st plot (Z1 vs Z2)\n",
        "axes[0].scatter(pr_out[:, 0], pr_out[:, 1], c=cols(intensity.index), marker='o')\n",
        "axes[0].set_xlabel(\"Z1\")\n",
        "axes[0].set_ylabel(\"Z2\")\n",
        "\n",
        "# 2nd plot (Z1 vs Z3)\n",
        "axes[1].scatter(pr_out[:, 0], pr_out[:, 2], c=cols(intensity.index), marker='o')\n",
        "axes[1].set_xlabel(\"Z1\")\n",
        "axes[1].set_ylabel(\"Z3\")\n",
        "\n",
        "plt.show()"
      ],
      "metadata": {
        "colab": {
          "base_uri": "https://localhost:8080/",
          "height": 542
        },
        "id": "blWDRIp612Pf",
        "outputId": "bc54fd1f-676a-4f76-d9aa-57ea79acf328"
      },
      "execution_count": 16,
      "outputs": [
        {
          "output_type": "display_data",
          "data": {
            "text/plain": [
              "<Figure size 1200x600 with 2 Axes>"
            ],
            "image/png": "[encoded data removed]"
          },
          "metadata": {}
        }
      ]
    },
    {
      "cell_type": "markdown",
      "source": [
        "#### Projection Plots with Plotly\n",
        "We can also use the Plotly library to easily get interactive plots. Even though these plots are fully interactive, they actually require less code than in our previous example.\n"
      ],
      "metadata": {
        "id": "5VPrsNOKlkjD"
      }
    },
    {
      "cell_type": "code",
      "source": [
        "import plotly.io as pio\n",
        "import plotly.express as px\n",
        "pio.templates.default = \"plotly_white\"\n",
        "for Z in [1,2]:\n",
        "    fig = px.scatter(x=pr_out[:, 0], y=pr_out[:, Z], color=intensity.index, width=600)\n",
        "    fig.update_layout(xaxis_title='Z1', yaxis_title=f'Z{Z+1}')\n",
        "    fig.show()"
      ],
      "metadata": {
        "colab": {
          "base_uri": "https://localhost:8080/",
          "height": 1000
        },
        "id": "rsI6dG8jlpyL",
        "outputId": "44afb25d-c90a-404e-83d3-e0ede477ed4e"
      },
      "execution_count": 17,
      "outputs": [
        {
          "output_type": "display_data",
          "data": {
            "text/html": [
              "<html>\n",
              "<head><meta charset=\"utf-8\" /></head>\n",
              "<body>\n",
              "    <div>            <script src=\"https://cdnjs.cloudflare.com/ajax/libs/mathjax/2.7.5/MathJax.js?config=TeX-AMS-MML_SVG\"></script><script type=\"text/javascript\">if (window.MathJax && window.MathJax.Hub && window.MathJax.Hub.Config) {window.MathJax.Hub.Config({SVG: {font: \"STIX-Web\"}});}</script>                <script type=\"text/javascript\">window.PlotlyConfig = {MathJaxConfig: 'local'};</script>\n",
              "        <script charset=\"utf-8\" src=\"https://cdn.plot.ly/plotly-2.24.1.min.js\"></script>                <div id=\"45dc1101-770f-490a-9a27-ac431dc65281\" class=\"plotly-graph-div\" style=\"height:525px; width:600px;\"></div>            <script type=\"text/javascript\">                                    window.PLOTLYENV=window.PLOTLYENV || {};                                    if (document.getElementById(\"45dc1101-770f-490a-9a27-ac431dc65281\")) {                    Plotly.newPlot(                        \"45dc1101-770f-490a-9a27-ac431dc65281\",                        [{\"hovertemplate\":\"color=BR:MCF7\\u003cbr\\u003ex=%{x}\\u003cbr\\u003ey=%{y}\\u003cextra\\u003e\\u003c\\u002fextra\\u003e\",\"legendgroup\":\"BR:MCF7\",\"marker\":{\"color\":\"#636efa\",\"symbol\":\"circle\"},\"mode\":\"markers\",\"name\":\"BR:MCF7\",\"orientation\":\"v\",\"showlegend\":true,\"x\":[41.427079492581534],\"xaxis\":\"x\",\"y\":[-8.208341735892388],\"yaxis\":\"y\",\"type\":\"scatter\"},{\"hovertemplate\":\"color=BR:MDA-MB-231\\u003cbr\\u003ex=%{x}\\u003cbr\\u003ey=%{y}\\u003cextra\\u003e\\u003c\\u002fextra\\u003e\",\"legendgroup\":\"BR:MDA-MB-231\",\"marker\":{\"color\":\"#EF553B\",\"symbol\":\"circle\"},\"mode\":\"markers\",\"name\":\"BR:MDA-MB-231\",\"orientation\":\"v\",\"showlegend\":true,\"x\":[-14.097969679510426],\"xaxis\":\"x\",\"y\":[45.21428924310734],\"yaxis\":\"y\",\"type\":\"scatter\"},{\"hovertemplate\":\"color=BR:HS 578T\\u003cbr\\u003ex=%{x}\\u003cbr\\u003ey=%{y}\\u003cextra\\u003e\\u003c\\u002fextra\\u003e\",\"legendgroup\":\"BR:HS 578T\",\"marker\":{\"color\":\"#00cc96\",\"symbol\":\"circle\"},\"mode\":\"markers\",\"name\":\"BR:HS 578T\",\"orientation\":\"v\",\"showlegend\":true,\"x\":[-71.89027710954979],\"xaxis\":\"x\",\"y\":[35.135497695100206],\"yaxis\":\"y\",\"type\":\"scatter\"},{\"hovertemplate\":\"color=BR:BT-549\\u003cbr\\u003ex=%{x}\\u003cbr\\u003ey=%{y}\\u003cextra\\u003e\\u003c\\u002fextra\\u003e\",\"legendgroup\":\"BR:BT-549\",\"marker\":{\"color\":\"#ab63fa\",\"symbol\":\"circle\"},\"mode\":\"markers\",\"name\":\"BR:BT-549\",\"orientation\":\"v\",\"showlegend\":true,\"x\":[-67.81136840567507],\"xaxis\":\"x\",\"y\":[93.41281616169155],\"yaxis\":\"y\",\"type\":\"scatter\"},{\"hovertemplate\":\"color=BR:T-47D\\u003cbr\\u003ex=%{x}\\u003cbr\\u003ey=%{y}\\u003cextra\\u003e\\u003c\\u002fextra\\u003e\",\"legendgroup\":\"BR:T-47D\",\"marker\":{\"color\":\"#FFA15A\",\"symbol\":\"circle\"},\"mode\":\"markers\",\"name\":\"BR:T-47D\",\"orientation\":\"v\",\"showlegend\":true,\"x\":[97.9547362512278],\"xaxis\":\"x\",\"y\":[60.189425053513105],\"yaxis\":\"y\",\"type\":\"scatter\"},{\"hovertemplate\":\"color=CNS:SF-268\\u003cbr\\u003ex=%{x}\\u003cbr\\u003ey=%{y}\\u003cextra\\u003e\\u003c\\u002fextra\\u003e\",\"legendgroup\":\"CNS:SF-268\",\"marker\":{\"color\":\"#19d3f3\",\"symbol\":\"circle\"},\"mode\":\"markers\",\"name\":\"CNS:SF-268\",\"orientation\":\"v\",\"showlegend\":true,\"x\":[-29.2241353658093],\"xaxis\":\"x\",\"y\":[10.323981029429156],\"yaxis\":\"y\",\"type\":\"scatter\"},{\"hovertemplate\":\"color=CNS:SF-295\\u003cbr\\u003ex=%{x}\\u003cbr\\u003ey=%{y}\\u003cextra\\u003e\\u003c\\u002fextra\\u003e\",\"legendgroup\":\"CNS:SF-295\",\"marker\":{\"color\":\"#FF6692\",\"symbol\":\"circle\"},\"mode\":\"markers\",\"name\":\"CNS:SF-295\",\"orientation\":\"v\",\"showlegend\":true,\"x\":[-48.29679245571085],\"xaxis\":\"x\",\"y\":[-19.107515620827268],\"yaxis\":\"y\",\"type\":\"scatter\"},{\"hovertemplate\":\"color=CNS:SF-539\\u003cbr\\u003ex=%{x}\\u003cbr\\u003ey=%{y}\\u003cextra\\u003e\\u003c\\u002fextra\\u003e\",\"legendgroup\":\"CNS:SF-539\",\"marker\":{\"color\":\"#B6E880\",\"symbol\":\"circle\"},\"mode\":\"markers\",\"name\":\"CNS:SF-539\",\"orientation\":\"v\",\"showlegend\":true,\"x\":[-57.65115230528164],\"xaxis\":\"x\",\"y\":[-3.1376768967211404],\"yaxis\":\"y\",\"type\":\"scatter\"},{\"hovertemplate\":\"color=CNS:SNB-19\\u003cbr\\u003ex=%{x}\\u003cbr\\u003ey=%{y}\\u003cextra\\u003e\\u003c\\u002fextra\\u003e\",\"legendgroup\":\"CNS:SNB-19\",\"marker\":{\"color\":\"#FF97FF\",\"symbol\":\"circle\"},\"mode\":\"markers\",\"name\":\"CNS:SNB-19\",\"orientation\":\"v\",\"showlegend\":true,\"x\":[-34.56169077498125],\"xaxis\":\"x\",\"y\":[2.5515143705925065],\"yaxis\":\"y\",\"type\":\"scatter\"},{\"hovertemplate\":\"color=CNS:SNB-75\\u003cbr\\u003ex=%{x}\\u003cbr\\u003ey=%{y}\\u003cextra\\u003e\\u003c\\u002fextra\\u003e\",\"legendgroup\":\"CNS:SNB-75\",\"marker\":{\"color\":\"#FECB52\",\"symbol\":\"circle\"},\"mode\":\"markers\",\"name\":\"CNS:SNB-75\",\"orientation\":\"v\",\"showlegend\":true,\"x\":[-76.83313201480455],\"xaxis\":\"x\",\"y\":[10.791682597928954],\"yaxis\":\"y\",\"type\":\"scatter\"},{\"hovertemplate\":\"color=CNS:U251\\u003cbr\\u003ex=%{x}\\u003cbr\\u003ey=%{y}\\u003cextra\\u003e\\u003c\\u002fextra\\u003e\",\"legendgroup\":\"CNS:U251\",\"marker\":{\"color\":\"#636efa\",\"symbol\":\"circle\"},\"mode\":\"markers\",\"name\":\"CNS:U251\",\"orientation\":\"v\",\"showlegend\":true,\"x\":[-15.689382345148715],\"xaxis\":\"x\",\"y\":[-26.073088531588596],\"yaxis\":\"y\",\"type\":\"scatter\"},{\"hovertemplate\":\"color=CO:COLO 205\\u003cbr\\u003ex=%{x}\\u003cbr\\u003ey=%{y}\\u003cextra\\u003e\\u003c\\u002fextra\\u003e\",\"legendgroup\":\"CO:COLO 205\",\"marker\":{\"color\":\"#EF553B\",\"symbol\":\"circle\"},\"mode\":\"markers\",\"name\":\"CO:COLO 205\",\"orientation\":\"v\",\"showlegend\":true,\"x\":[22.158585400040064],\"xaxis\":\"x\",\"y\":[-29.973757398256996],\"yaxis\":\"y\",\"type\":\"scatter\"},{\"hovertemplate\":\"color=CO:HCC-2998\\u003cbr\\u003ex=%{x}\\u003cbr\\u003ey=%{y}\\u003cextra\\u003e\\u003c\\u002fextra\\u003e\",\"legendgroup\":\"CO:HCC-2998\",\"marker\":{\"color\":\"#00cc96\",\"symbol\":\"circle\"},\"mode\":\"markers\",\"name\":\"CO:HCC-2998\",\"orientation\":\"v\",\"showlegend\":true,\"x\":[-14.790232838800144],\"xaxis\":\"x\",\"y\":[-0.7509362915857063],\"yaxis\":\"y\",\"type\":\"scatter\"},{\"hovertemplate\":\"color=CO:HCT-116\\u003cbr\\u003ex=%{x}\\u003cbr\\u003ey=%{y}\\u003cextra\\u003e\\u003c\\u002fextra\\u003e\",\"legendgroup\":\"CO:HCT-116\",\"marker\":{\"color\":\"#ab63fa\",\"symbol\":\"circle\"},\"mode\":\"markers\",\"name\":\"CO:HCT-116\",\"orientation\":\"v\",\"showlegend\":true,\"x\":[17.879716309300086],\"xaxis\":\"x\",\"y\":[25.318678621926697],\"yaxis\":\"y\",\"type\":\"scatter\"},{\"hovertemplate\":\"color=CO:HCT-15\\u003cbr\\u003ex=%{x}\\u003cbr\\u003ey=%{y}\\u003cextra\\u003e\\u003c\\u002fextra\\u003e\",\"legendgroup\":\"CO:HCT-15\",\"marker\":{\"color\":\"#FFA15A\",\"symbol\":\"circle\"},\"mode\":\"markers\",\"name\":\"CO:HCT-15\",\"orientation\":\"v\",\"showlegend\":true,\"x\":[7.449373936839675],\"xaxis\":\"x\",\"y\":[22.19054971703995],\"yaxis\":\"y\",\"type\":\"scatter\"},{\"hovertemplate\":\"color=CO:HT29\\u003cbr\\u003ex=%{x}\\u003cbr\\u003ey=%{y}\\u003cextra\\u003e\\u003c\\u002fextra\\u003e\",\"legendgroup\":\"CO:HT29\",\"marker\":{\"color\":\"#19d3f3\",\"symbol\":\"circle\"},\"mode\":\"markers\",\"name\":\"CO:HT29\",\"orientation\":\"v\",\"showlegend\":true,\"x\":[6.703828546858205],\"xaxis\":\"x\",\"y\":[-48.65999002237359],\"yaxis\":\"y\",\"type\":\"scatter\"},{\"hovertemplate\":\"color=CO:KM12\\u003cbr\\u003ex=%{x}\\u003cbr\\u003ey=%{y}\\u003cextra\\u003e\\u003c\\u002fextra\\u003e\",\"legendgroup\":\"CO:KM12\",\"marker\":{\"color\":\"#FF6692\",\"symbol\":\"circle\"},\"mode\":\"markers\",\"name\":\"CO:KM12\",\"orientation\":\"v\",\"showlegend\":true,\"x\":[17.829571585931095],\"xaxis\":\"x\",\"y\":[19.53021174416757],\"yaxis\":\"y\",\"type\":\"scatter\"},{\"hovertemplate\":\"color=CO:SW-620\\u003cbr\\u003ex=%{x}\\u003cbr\\u003ey=%{y}\\u003cextra\\u003e\\u003c\\u002fextra\\u003e\",\"legendgroup\":\"CO:SW-620\",\"marker\":{\"color\":\"#B6E880\",\"symbol\":\"circle\"},\"mode\":\"markers\",\"name\":\"CO:SW-620\",\"orientation\":\"v\",\"showlegend\":true,\"x\":[12.86150687773715],\"xaxis\":\"x\",\"y\":[8.344692226093951],\"yaxis\":\"y\",\"type\":\"scatter\"},{\"hovertemplate\":\"color=LE:CCRF-CEM\\u003cbr\\u003ex=%{x}\\u003cbr\\u003ey=%{y}\\u003cextra\\u003e\\u003c\\u002fextra\\u003e\",\"legendgroup\":\"LE:CCRF-CEM\",\"marker\":{\"color\":\"#FF97FF\",\"symbol\":\"circle\"},\"mode\":\"markers\",\"name\":\"LE:CCRF-CEM\",\"orientation\":\"v\",\"showlegend\":true,\"x\":[-24.27918184229181],\"xaxis\":\"x\",\"y\":[9.70645215673451],\"yaxis\":\"y\",\"type\":\"scatter\"},{\"hovertemplate\":\"color=LE:HL-60(TB)\\u003cbr\\u003ex=%{x}\\u003cbr\\u003ey=%{y}\\u003cextra\\u003e\\u003c\\u002fextra\\u003e\",\"legendgroup\":\"LE:HL-60(TB)\",\"marker\":{\"color\":\"#FECB52\",\"symbol\":\"circle\"},\"mode\":\"markers\",\"name\":\"LE:HL-60(TB)\",\"orientation\":\"v\",\"showlegend\":true,\"x\":[-25.266099328663863],\"xaxis\":\"x\",\"y\":[6.027522005068084],\"yaxis\":\"y\",\"type\":\"scatter\"},{\"hovertemplate\":\"color=LE:K-562\\u003cbr\\u003ex=%{x}\\u003cbr\\u003ey=%{y}\\u003cextra\\u003e\\u003c\\u002fextra\\u003e\",\"legendgroup\":\"LE:K-562\",\"marker\":{\"color\":\"#636efa\",\"symbol\":\"circle\"},\"mode\":\"markers\",\"name\":\"LE:K-562\",\"orientation\":\"v\",\"showlegend\":true,\"x\":[-26.993962324301833],\"xaxis\":\"x\",\"y\":[24.914089095389382],\"yaxis\":\"y\",\"type\":\"scatter\"},{\"hovertemplate\":\"color=LE:MOLT-4\\u003cbr\\u003ex=%{x}\\u003cbr\\u003ey=%{y}\\u003cextra\\u003e\\u003c\\u002fextra\\u003e\",\"legendgroup\":\"LE:MOLT-4\",\"marker\":{\"color\":\"#EF553B\",\"symbol\":\"circle\"},\"mode\":\"markers\",\"name\":\"LE:MOLT-4\",\"orientation\":\"v\",\"showlegend\":true,\"x\":[-1.4310827207413026],\"xaxis\":\"x\",\"y\":[26.07731750902793],\"yaxis\":\"y\",\"type\":\"scatter\"},{\"hovertemplate\":\"color=LE:RPMI-8226\\u003cbr\\u003ex=%{x}\\u003cbr\\u003ey=%{y}\\u003cextra\\u003e\\u003c\\u002fextra\\u003e\",\"legendgroup\":\"LE:RPMI-8226\",\"marker\":{\"color\":\"#00cc96\",\"symbol\":\"circle\"},\"mode\":\"markers\",\"name\":\"LE:RPMI-8226\",\"orientation\":\"v\",\"showlegend\":true,\"x\":[-23.15692154080696],\"xaxis\":\"x\",\"y\":[-21.140946060000722],\"yaxis\":\"y\",\"type\":\"scatter\"},{\"hovertemplate\":\"color=LE:SR\\u003cbr\\u003ex=%{x}\\u003cbr\\u003ey=%{y}\\u003cextra\\u003e\\u003c\\u002fextra\\u003e\",\"legendgroup\":\"LE:SR\",\"marker\":{\"color\":\"#ab63fa\",\"symbol\":\"circle\"},\"mode\":\"markers\",\"name\":\"LE:SR\",\"orientation\":\"v\",\"showlegend\":true,\"x\":[12.853835241459334],\"xaxis\":\"x\",\"y\":[-2.0786481596290223],\"yaxis\":\"y\",\"type\":\"scatter\"},{\"hovertemplate\":\"color=ME:LOX IMVI\\u003cbr\\u003ex=%{x}\\u003cbr\\u003ey=%{y}\\u003cextra\\u003e\\u003c\\u002fextra\\u003e\",\"legendgroup\":\"ME:LOX IMVI\",\"marker\":{\"color\":\"#FFA15A\",\"symbol\":\"circle\"},\"mode\":\"markers\",\"name\":\"ME:LOX IMVI\",\"orientation\":\"v\",\"showlegend\":true,\"x\":[50.893971806652935],\"xaxis\":\"x\",\"y\":[14.403872928093543],\"yaxis\":\"y\",\"type\":\"scatter\"},{\"hovertemplate\":\"color=ME:MALME-3M\\u003cbr\\u003ex=%{x}\\u003cbr\\u003ey=%{y}\\u003cextra\\u003e\\u003c\\u002fextra\\u003e\",\"legendgroup\":\"ME:MALME-3M\",\"marker\":{\"color\":\"#19d3f3\",\"symbol\":\"circle\"},\"mode\":\"markers\",\"name\":\"ME:MALME-3M\",\"orientation\":\"v\",\"showlegend\":true,\"x\":[29.308924857770208],\"xaxis\":\"x\",\"y\":[-42.374499547394],\"yaxis\":\"y\",\"type\":\"scatter\"},{\"hovertemplate\":\"color=ME:M14\\u003cbr\\u003ex=%{x}\\u003cbr\\u003ey=%{y}\\u003cextra\\u003e\\u003c\\u002fextra\\u003e\",\"legendgroup\":\"ME:M14\",\"marker\":{\"color\":\"#FF6692\",\"symbol\":\"circle\"},\"mode\":\"markers\",\"name\":\"ME:M14\",\"orientation\":\"v\",\"showlegend\":true,\"x\":[-37.15961898718424],\"xaxis\":\"x\",\"y\":[-34.969070685587596],\"yaxis\":\"y\",\"type\":\"scatter\"},{\"hovertemplate\":\"color=ME:SK-MEL-2\\u003cbr\\u003ex=%{x}\\u003cbr\\u003ey=%{y}\\u003cextra\\u003e\\u003c\\u002fextra\\u003e\",\"legendgroup\":\"ME:SK-MEL-2\",\"marker\":{\"color\":\"#B6E880\",\"symbol\":\"circle\"},\"mode\":\"markers\",\"name\":\"ME:SK-MEL-2\",\"orientation\":\"v\",\"showlegend\":true,\"x\":[-8.712519935353717],\"xaxis\":\"x\",\"y\":[-3.115972935218218],\"yaxis\":\"y\",\"type\":\"scatter\"},{\"hovertemplate\":\"color=ME:SK-MEL-28\\u003cbr\\u003ex=%{x}\\u003cbr\\u003ey=%{y}\\u003cextra\\u003e\\u003c\\u002fextra\\u003e\",\"legendgroup\":\"ME:SK-MEL-28\",\"marker\":{\"color\":\"#FF97FF\",\"symbol\":\"circle\"},\"mode\":\"markers\",\"name\":\"ME:SK-MEL-28\",\"orientation\":\"v\",\"showlegend\":true,\"x\":[-84.65456100633229],\"xaxis\":\"x\",\"y\":[-41.00753958373274],\"yaxis\":\"y\",\"type\":\"scatter\"},{\"hovertemplate\":\"color=ME:SK-MEL-5\\u003cbr\\u003ex=%{x}\\u003cbr\\u003ey=%{y}\\u003cextra\\u003e\\u003c\\u002fextra\\u003e\",\"legendgroup\":\"ME:SK-MEL-5\",\"marker\":{\"color\":\"#FECB52\",\"symbol\":\"circle\"},\"mode\":\"markers\",\"name\":\"ME:SK-MEL-5\",\"orientation\":\"v\",\"showlegend\":true,\"x\":[8.50435872967018],\"xaxis\":\"x\",\"y\":[-11.205018702042475],\"yaxis\":\"y\",\"type\":\"scatter\"},{\"hovertemplate\":\"color=ME:UACC-257\\u003cbr\\u003ex=%{x}\\u003cbr\\u003ey=%{y}\\u003cextra\\u003e\\u003c\\u002fextra\\u003e\",\"legendgroup\":\"ME:UACC-257\",\"marker\":{\"color\":\"#636efa\",\"symbol\":\"circle\"},\"mode\":\"markers\",\"name\":\"ME:UACC-257\",\"orientation\":\"v\",\"showlegend\":true,\"x\":[-36.351942798627014],\"xaxis\":\"x\",\"y\":[-54.68000972219003],\"yaxis\":\"y\",\"type\":\"scatter\"},{\"hovertemplate\":\"color=ME:UACC-62\\u003cbr\\u003ex=%{x}\\u003cbr\\u003ey=%{y}\\u003cextra\\u003e\\u003c\\u002fextra\\u003e\",\"legendgroup\":\"ME:UACC-62\",\"marker\":{\"color\":\"#EF553B\",\"symbol\":\"circle\"},\"mode\":\"markers\",\"name\":\"ME:UACC-62\",\"orientation\":\"v\",\"showlegend\":true,\"x\":[-28.778516607119457],\"xaxis\":\"x\",\"y\":[-51.08421925762392],\"yaxis\":\"y\",\"type\":\"scatter\"},{\"hovertemplate\":\"color=ME:MDA-MB-435\\u003cbr\\u003ex=%{x}\\u003cbr\\u003ey=%{y}\\u003cextra\\u003e\\u003c\\u002fextra\\u003e\",\"legendgroup\":\"ME:MDA-MB-435\",\"marker\":{\"color\":\"#00cc96\",\"symbol\":\"circle\"},\"mode\":\"markers\",\"name\":\"ME:MDA-MB-435\",\"orientation\":\"v\",\"showlegend\":true,\"x\":[-55.95644285342122],\"xaxis\":\"x\",\"y\":[-26.91973621472592],\"yaxis\":\"y\",\"type\":\"scatter\"},{\"hovertemplate\":\"color=ME:MDA-N\\u003cbr\\u003ex=%{x}\\u003cbr\\u003ey=%{y}\\u003cextra\\u003e\\u003c\\u002fextra\\u003e\",\"legendgroup\":\"ME:MDA-N\",\"marker\":{\"color\":\"#ab63fa\",\"symbol\":\"circle\"},\"mode\":\"markers\",\"name\":\"ME:MDA-N\",\"orientation\":\"v\",\"showlegend\":true,\"x\":[-47.46123185326634],\"xaxis\":\"x\",\"y\":[-35.45854678378469],\"yaxis\":\"y\",\"type\":\"scatter\"},{\"hovertemplate\":\"color=LC:A549\\u002fATCC\\u003cbr\\u003ex=%{x}\\u003cbr\\u003ey=%{y}\\u003cextra\\u003e\\u003c\\u002fextra\\u003e\",\"legendgroup\":\"LC:A549\\u002fATCC\",\"marker\":{\"color\":\"#FFA15A\",\"symbol\":\"circle\"},\"mode\":\"markers\",\"name\":\"LC:A549\\u002fATCC\",\"orientation\":\"v\",\"showlegend\":true,\"x\":[60.976038093150656],\"xaxis\":\"x\",\"y\":[-61.826098024104],\"yaxis\":\"y\",\"type\":\"scatter\"},{\"hovertemplate\":\"color=LC:EKVX\\u003cbr\\u003ex=%{x}\\u003cbr\\u003ey=%{y}\\u003cextra\\u003e\\u003c\\u002fextra\\u003e\",\"legendgroup\":\"LC:EKVX\",\"marker\":{\"color\":\"#19d3f3\",\"symbol\":\"circle\"},\"mode\":\"markers\",\"name\":\"LC:EKVX\",\"orientation\":\"v\",\"showlegend\":true,\"x\":[29.718315162077193],\"xaxis\":\"x\",\"y\":[-50.02617000784866],\"yaxis\":\"y\",\"type\":\"scatter\"},{\"hovertemplate\":\"color=LC:HOP-62\\u003cbr\\u003ex=%{x}\\u003cbr\\u003ey=%{y}\\u003cextra\\u003e\\u003c\\u002fextra\\u003e\",\"legendgroup\":\"LC:HOP-62\",\"marker\":{\"color\":\"#FF6692\",\"symbol\":\"circle\"},\"mode\":\"markers\",\"name\":\"LC:HOP-62\",\"orientation\":\"v\",\"showlegend\":true,\"x\":[21.091978540164273],\"xaxis\":\"x\",\"y\":[12.647152118932238],\"yaxis\":\"y\",\"type\":\"scatter\"},{\"hovertemplate\":\"color=LC:HOP-92\\u003cbr\\u003ex=%{x}\\u003cbr\\u003ey=%{y}\\u003cextra\\u003e\\u003c\\u002fextra\\u003e\",\"legendgroup\":\"LC:HOP-92\",\"marker\":{\"color\":\"#B6E880\",\"symbol\":\"circle\"},\"mode\":\"markers\",\"name\":\"LC:HOP-92\",\"orientation\":\"v\",\"showlegend\":true,\"x\":[0.0896609142462987],\"xaxis\":\"x\",\"y\":[-19.77944704520235],\"yaxis\":\"y\",\"type\":\"scatter\"},{\"hovertemplate\":\"color=LC:NCI-H226\\u003cbr\\u003ex=%{x}\\u003cbr\\u003ey=%{y}\\u003cextra\\u003e\\u003c\\u002fextra\\u003e\",\"legendgroup\":\"LC:NCI-H226\",\"marker\":{\"color\":\"#FF97FF\",\"symbol\":\"circle\"},\"mode\":\"markers\",\"name\":\"LC:NCI-H226\",\"orientation\":\"v\",\"showlegend\":true,\"x\":[26.7017973220527],\"xaxis\":\"x\",\"y\":[14.05188494658615],\"yaxis\":\"y\",\"type\":\"scatter\"},{\"hovertemplate\":\"color=LC:NCI-H23\\u003cbr\\u003ex=%{x}\\u003cbr\\u003ey=%{y}\\u003cextra\\u003e\\u003c\\u002fextra\\u003e\",\"legendgroup\":\"LC:NCI-H23\",\"marker\":{\"color\":\"#FECB52\",\"symbol\":\"circle\"},\"mode\":\"markers\",\"name\":\"LC:NCI-H23\",\"orientation\":\"v\",\"showlegend\":true,\"x\":[55.380877818520155],\"xaxis\":\"x\",\"y\":[-31.816125053801574],\"yaxis\":\"y\",\"type\":\"scatter\"},{\"hovertemplate\":\"color=LC:NCI-H322M\\u003cbr\\u003ex=%{x}\\u003cbr\\u003ey=%{y}\\u003cextra\\u003e\\u003c\\u002fextra\\u003e\",\"legendgroup\":\"LC:NCI-H322M\",\"marker\":{\"color\":\"#636efa\",\"symbol\":\"circle\"},\"mode\":\"markers\",\"name\":\"LC:NCI-H322M\",\"orientation\":\"v\",\"showlegend\":true,\"x\":[96.28162730030445],\"xaxis\":\"x\",\"y\":[-26.26841628838369],\"yaxis\":\"y\",\"type\":\"scatter\"},{\"hovertemplate\":\"color=LC:NCI-H460\\u003cbr\\u003ex=%{x}\\u003cbr\\u003ey=%{y}\\u003cextra\\u003e\\u003c\\u002fextra\\u003e\",\"legendgroup\":\"LC:NCI-H460\",\"marker\":{\"color\":\"#EF553B\",\"symbol\":\"circle\"},\"mode\":\"markers\",\"name\":\"LC:NCI-H460\",\"orientation\":\"v\",\"showlegend\":true,\"x\":[75.23645206672192],\"xaxis\":\"x\",\"y\":[-51.74025653297634],\"yaxis\":\"y\",\"type\":\"scatter\"},{\"hovertemplate\":\"color=LC:NCI-H522\\u003cbr\\u003ex=%{x}\\u003cbr\\u003ey=%{y}\\u003cextra\\u003e\\u003c\\u002fextra\\u003e\",\"legendgroup\":\"LC:NCI-H522\",\"marker\":{\"color\":\"#00cc96\",\"symbol\":\"circle\"},\"mode\":\"markers\",\"name\":\"LC:NCI-H522\",\"orientation\":\"v\",\"showlegend\":true,\"x\":[5.2197488094345585],\"xaxis\":\"x\",\"y\":[-21.078482994988434],\"yaxis\":\"y\",\"type\":\"scatter\"},{\"hovertemplate\":\"color=OV:IGROV1\\u003cbr\\u003ex=%{x}\\u003cbr\\u003ey=%{y}\\u003cextra\\u003e\\u003c\\u002fextra\\u003e\",\"legendgroup\":\"OV:IGROV1\",\"marker\":{\"color\":\"#ab63fa\",\"symbol\":\"circle\"},\"mode\":\"markers\",\"name\":\"OV:IGROV1\",\"orientation\":\"v\",\"showlegend\":true,\"x\":[-1.6669225694954986],\"xaxis\":\"x\",\"y\":[-8.151574256531962],\"yaxis\":\"y\",\"type\":\"scatter\"},{\"hovertemplate\":\"color=OV:OVCAR-3\\u003cbr\\u003ex=%{x}\\u003cbr\\u003ey=%{y}\\u003cextra\\u003e\\u003c\\u002fextra\\u003e\",\"legendgroup\":\"OV:OVCAR-3\",\"marker\":{\"color\":\"#FFA15A\",\"symbol\":\"circle\"},\"mode\":\"markers\",\"name\":\"OV:OVCAR-3\",\"orientation\":\"v\",\"showlegend\":true,\"x\":[-36.91971556113491],\"xaxis\":\"x\",\"y\":[18.872399957741127],\"yaxis\":\"y\",\"type\":\"scatter\"},{\"hovertemplate\":\"color=OV:OVCAR-4\\u003cbr\\u003ex=%{x}\\u003cbr\\u003ey=%{y}\\u003cextra\\u003e\\u003c\\u002fextra\\u003e\",\"legendgroup\":\"OV:OVCAR-4\",\"marker\":{\"color\":\"#19d3f3\",\"symbol\":\"circle\"},\"mode\":\"markers\",\"name\":\"OV:OVCAR-4\",\"orientation\":\"v\",\"showlegend\":true,\"x\":[-91.63252103177336],\"xaxis\":\"x\",\"y\":[-6.451443130373745],\"yaxis\":\"y\",\"type\":\"scatter\"},{\"hovertemplate\":\"color=OV:OVCAR-5\\u003cbr\\u003ex=%{x}\\u003cbr\\u003ey=%{y}\\u003cextra\\u003e\\u003c\\u002fextra\\u003e\",\"legendgroup\":\"OV:OVCAR-5\",\"marker\":{\"color\":\"#FF6692\",\"symbol\":\"circle\"},\"mode\":\"markers\",\"name\":\"OV:OVCAR-5\",\"orientation\":\"v\",\"showlegend\":true,\"x\":[41.397159013034006],\"xaxis\":\"x\",\"y\":[-24.09653908950791],\"yaxis\":\"y\",\"type\":\"scatter\"},{\"hovertemplate\":\"color=OV:OVCAR-8\\u003cbr\\u003ex=%{x}\\u003cbr\\u003ey=%{y}\\u003cextra\\u003e\\u003c\\u002fextra\\u003e\",\"legendgroup\":\"OV:OVCAR-8\",\"marker\":{\"color\":\"#B6E880\",\"symbol\":\"circle\"},\"mode\":\"markers\",\"name\":\"OV:OVCAR-8\",\"orientation\":\"v\",\"showlegend\":true,\"x\":[29.967217661378836],\"xaxis\":\"x\",\"y\":[123.97118295162153],\"yaxis\":\"y\",\"type\":\"scatter\"},{\"hovertemplate\":\"color=OV:SK-OV-3\\u003cbr\\u003ex=%{x}\\u003cbr\\u003ey=%{y}\\u003cextra\\u003e\\u003c\\u002fextra\\u003e\",\"legendgroup\":\"OV:SK-OV-3\",\"marker\":{\"color\":\"#FF97FF\",\"symbol\":\"circle\"},\"mode\":\"markers\",\"name\":\"OV:SK-OV-3\",\"orientation\":\"v\",\"showlegend\":true,\"x\":[-26.162789708322855],\"xaxis\":\"x\",\"y\":[31.162633041976367],\"yaxis\":\"y\",\"type\":\"scatter\"},{\"hovertemplate\":\"color=OV:NCI\\u002fADR-RES\\u003cbr\\u003ex=%{x}\\u003cbr\\u003ey=%{y}\\u003cextra\\u003e\\u003c\\u002fextra\\u003e\",\"legendgroup\":\"OV:NCI\\u002fADR-RES\",\"marker\":{\"color\":\"#FECB52\",\"symbol\":\"circle\"},\"mode\":\"markers\",\"name\":\"OV:NCI\\u002fADR-RES\",\"orientation\":\"v\",\"showlegend\":true,\"x\":[37.464260756169544],\"xaxis\":\"x\",\"y\":[98.96727890154051],\"yaxis\":\"y\",\"type\":\"scatter\"},{\"hovertemplate\":\"color=PR:PC-3\\u003cbr\\u003ex=%{x}\\u003cbr\\u003ey=%{y}\\u003cextra\\u003e\\u003c\\u002fextra\\u003e\",\"legendgroup\":\"PR:PC-3\",\"marker\":{\"color\":\"#636efa\",\"symbol\":\"circle\"},\"mode\":\"markers\",\"name\":\"PR:PC-3\",\"orientation\":\"v\",\"showlegend\":true,\"x\":[-22.36418416199595],\"xaxis\":\"x\",\"y\":[48.34513936409182],\"yaxis\":\"y\",\"type\":\"scatter\"},{\"hovertemplate\":\"color=PR:DU-145\\u003cbr\\u003ex=%{x}\\u003cbr\\u003ey=%{y}\\u003cextra\\u003e\\u003c\\u002fextra\\u003e\",\"legendgroup\":\"PR:DU-145\",\"marker\":{\"color\":\"#EF553B\",\"symbol\":\"circle\"},\"mode\":\"markers\",\"name\":\"PR:DU-145\",\"orientation\":\"v\",\"showlegend\":true,\"x\":[61.96842738606004],\"xaxis\":\"x\",\"y\":[15.799817752927023],\"yaxis\":\"y\",\"type\":\"scatter\"},{\"hovertemplate\":\"color=RE:786-0\\u003cbr\\u003ex=%{x}\\u003cbr\\u003ey=%{y}\\u003cextra\\u003e\\u003c\\u002fextra\\u003e\",\"legendgroup\":\"RE:786-0\",\"marker\":{\"color\":\"#00cc96\",\"symbol\":\"circle\"},\"mode\":\"markers\",\"name\":\"RE:786-0\",\"orientation\":\"v\",\"showlegend\":true,\"x\":[-18.00086281854946],\"xaxis\":\"x\",\"y\":[41.05884495128571],\"yaxis\":\"y\",\"type\":\"scatter\"},{\"hovertemplate\":\"color=RE:A498\\u003cbr\\u003ex=%{x}\\u003cbr\\u003ey=%{y}\\u003cextra\\u003e\\u003c\\u002fextra\\u003e\",\"legendgroup\":\"RE:A498\",\"marker\":{\"color\":\"#ab63fa\",\"symbol\":\"circle\"},\"mode\":\"markers\",\"name\":\"RE:A498\",\"orientation\":\"v\",\"showlegend\":true,\"x\":[-0.4524202609790498],\"xaxis\":\"x\",\"y\":[-91.60429590778188],\"yaxis\":\"y\",\"type\":\"scatter\"},{\"hovertemplate\":\"color=RE:ACHN\\u003cbr\\u003ex=%{x}\\u003cbr\\u003ey=%{y}\\u003cextra\\u003e\\u003c\\u002fextra\\u003e\",\"legendgroup\":\"RE:ACHN\",\"marker\":{\"color\":\"#FFA15A\",\"symbol\":\"circle\"},\"mode\":\"markers\",\"name\":\"RE:ACHN\",\"orientation\":\"v\",\"showlegend\":true,\"x\":[76.94058946660941],\"xaxis\":\"x\",\"y\":[-38.90525631460608],\"yaxis\":\"y\",\"type\":\"scatter\"},{\"hovertemplate\":\"color=RE:CAKI-1\\u003cbr\\u003ex=%{x}\\u003cbr\\u003ey=%{y}\\u003cextra\\u003e\\u003c\\u002fextra\\u003e\",\"legendgroup\":\"RE:CAKI-1\",\"marker\":{\"color\":\"#19d3f3\",\"symbol\":\"circle\"},\"mode\":\"markers\",\"name\":\"RE:CAKI-1\",\"orientation\":\"v\",\"showlegend\":true,\"x\":[68.92628416317834],\"xaxis\":\"x\",\"y\":[5.554584419115661],\"yaxis\":\"y\",\"type\":\"scatter\"},{\"hovertemplate\":\"color=RE:RXF 393\\u003cbr\\u003ex=%{x}\\u003cbr\\u003ey=%{y}\\u003cextra\\u003e\\u003c\\u002fextra\\u003e\",\"legendgroup\":\"RE:RXF 393\",\"marker\":{\"color\":\"#FF6692\",\"symbol\":\"circle\"},\"mode\":\"markers\",\"name\":\"RE:RXF 393\",\"orientation\":\"v\",\"showlegend\":true,\"x\":[-57.91754258381647],\"xaxis\":\"x\",\"y\":[-29.585424101322307],\"yaxis\":\"y\",\"type\":\"scatter\"},{\"hovertemplate\":\"color=RE:SN12C\\u003cbr\\u003ex=%{x}\\u003cbr\\u003ey=%{y}\\u003cextra\\u003e\\u003c\\u002fextra\\u003e\",\"legendgroup\":\"RE:SN12C\",\"marker\":{\"color\":\"#B6E880\",\"symbol\":\"circle\"},\"mode\":\"markers\",\"name\":\"RE:SN12C\",\"orientation\":\"v\",\"showlegend\":true,\"x\":[35.43178752691246],\"xaxis\":\"x\",\"y\":[34.39190153266873],\"yaxis\":\"y\",\"type\":\"scatter\"},{\"hovertemplate\":\"color=RE:TK-10\\u003cbr\\u003ex=%{x}\\u003cbr\\u003ey=%{y}\\u003cextra\\u003e\\u003c\\u002fextra\\u003e\",\"legendgroup\":\"RE:TK-10\",\"marker\":{\"color\":\"#FF97FF\",\"symbol\":\"circle\"},\"mode\":\"markers\",\"name\":\"RE:TK-10\",\"orientation\":\"v\",\"showlegend\":true,\"x\":[17.27308929748226],\"xaxis\":\"x\",\"y\":[14.961310241013338],\"yaxis\":\"y\",\"type\":\"scatter\"},{\"hovertemplate\":\"color=RE:UO-31\\u003cbr\\u003ex=%{x}\\u003cbr\\u003ey=%{y}\\u003cextra\\u003e\\u003c\\u002fextra\\u003e\",\"legendgroup\":\"RE:UO-31\",\"marker\":{\"color\":\"#FECB52\",\"symbol\":\"circle\"},\"mode\":\"markers\",\"name\":\"RE:UO-31\",\"orientation\":\"v\",\"showlegend\":true,\"x\":[20.274373455884156],\"xaxis\":\"x\",\"y\":[47.3583205621997],\"yaxis\":\"y\",\"type\":\"scatter\"}],                        {\"template\":{\"data\":{\"histogram2dcontour\":[{\"type\":\"histogram2dcontour\",\"colorbar\":{\"outlinewidth\":0,\"ticks\":\"\"},\"colorscale\":[[0.0,\"#0d0887\"],[0.1111111111111111,\"#46039f\"],[0.2222222222222222,\"#7201a8\"],[0.3333333333333333,\"#9c179e\"],[0.4444444444444444,\"#bd3786\"],[0.5555555555555556,\"#d8576b\"],[0.6666666666666666,\"#ed7953\"],[0.7777777777777778,\"#fb9f3a\"],[0.8888888888888888,\"#fdca26\"],[1.0,\"#f0f921\"]]}],\"choropleth\":[{\"type\":\"choropleth\",\"colorbar\":{\"outlinewidth\":0,\"ticks\":\"\"}}],\"histogram2d\":[{\"type\":\"histogram2d\",\"colorbar\":{\"outlinewidth\":0,\"ticks\":\"\"},\"colorscale\":[[0.0,\"#0d0887\"],[0.1111111111111111,\"#46039f\"],[0.2222222222222222,\"#7201a8\"],[0.3333333333333333,\"#9c179e\"],[0.4444444444444444,\"#bd3786\"],[0.5555555555555556,\"#d8576b\"],[0.6666666666666666,\"#ed7953\"],[0.7777777777777778,\"#fb9f3a\"],[0.8888888888888888,\"#fdca26\"],[1.0,\"#f0f921\"]]}],\"heatmap\":[{\"type\":\"heatmap\",\"colorbar\":{\"outlinewidth\":0,\"ticks\":\"\"},\"colorscale\":[[0.0,\"#0d0887\"],[0.1111111111111111,\"#46039f\"],[0.2222222222222222,\"#7201a8\"],[0.3333333333333333,\"#9c179e\"],[0.4444444444444444,\"#bd3786\"],[0.5555555555555556,\"#d8576b\"],[0.6666666666666666,\"#ed7953\"],[0.7777777777777778,\"#fb9f3a\"],[0.8888888888888888,\"#fdca26\"],[1.0,\"#f0f921\"]]}],\"heatmapgl\":[{\"type\":\"heatmapgl\",\"colorbar\":{\"outlinewidth\":0,\"ticks\":\"\"},\"colorscale\":[[0.0,\"#0d0887\"],[0.1111111111111111,\"#46039f\"],[0.2222222222222222,\"#7201a8\"],[0.3333333333333333,\"#9c179e\"],[0.4444444444444444,\"#bd3786\"],[0.5555555555555556,\"#d8576b\"],[0.6666666666666666,\"#ed7953\"],[0.7777777777777778,\"#fb9f3a\"],[0.8888888888888888,\"#fdca26\"],[1.0,\"#f0f921\"]]}],\"contourcarpet\":[{\"type\":\"contourcarpet\",\"colorbar\":{\"outlinewidth\":0,\"ticks\":\"\"}}],\"contour\":[{\"type\":\"contour\",\"colorbar\":{\"outlinewidth\":0,\"ticks\":\"\"},\"colorscale\":[[0.0,\"#0d0887\"],[0.1111111111111111,\"#46039f\"],[0.2222222222222222,\"#7201a8\"],[0.3333333333333333,\"#9c179e\"],[0.4444444444444444,\"#bd3786\"],[0.5555555555555556,\"#d8576b\"],[0.6666666666666666,\"#ed7953\"],[0.7777777777777778,\"#fb9f3a\"],[0.8888888888888888,\"#fdca26\"],[1.0,\"#f0f921\"]]}],\"surface\":[{\"type\":\"surface\",\"colorbar\":{\"outlinewidth\":0,\"ticks\":\"\"},\"colorscale\":[[0.0,\"#0d0887\"],[0.1111111111111111,\"#46039f\"],[0.2222222222222222,\"#7201a8\"],[0.3333333333333333,\"#9c179e\"],[0.4444444444444444,\"#bd3786\"],[0.5555555555555556,\"#d8576b\"],[0.6666666666666666,\"#ed7953\"],[0.7777777777777778,\"#fb9f3a\"],[0.8888888888888888,\"#fdca26\"],[1.0,\"#f0f921\"]]}],\"mesh3d\":[{\"type\":\"mesh3d\",\"colorbar\":{\"outlinewidth\":0,\"ticks\":\"\"}}],\"scatter\":[{\"fillpattern\":{\"fillmode\":\"overlay\",\"size\":10,\"solidity\":0.2},\"type\":\"scatter\"}],\"parcoords\":[{\"type\":\"parcoords\",\"line\":{\"colorbar\":{\"outlinewidth\":0,\"ticks\":\"\"}}}],\"scatterpolargl\":[{\"type\":\"scatterpolargl\",\"marker\":{\"colorbar\":{\"outlinewidth\":0,\"ticks\":\"\"}}}],\"bar\":[{\"error_x\":{\"color\":\"#2a3f5f\"},\"error_y\":{\"color\":\"#2a3f5f\"},\"marker\":{\"line\":{\"color\":\"white\",\"width\":0.5},\"pattern\":{\"fillmode\":\"overlay\",\"size\":10,\"solidity\":0.2}},\"type\":\"bar\"}],\"scattergeo\":[{\"type\":\"scattergeo\",\"marker\":{\"colorbar\":{\"outlinewidth\":0,\"ticks\":\"\"}}}],\"scatterpolar\":[{\"type\":\"scatterpolar\",\"marker\":{\"colorbar\":{\"outlinewidth\":0,\"ticks\":\"\"}}}],\"histogram\":[{\"marker\":{\"pattern\":{\"fillmode\":\"overlay\",\"size\":10,\"solidity\":0.2}},\"type\":\"histogram\"}],\"scattergl\":[{\"type\":\"scattergl\",\"marker\":{\"colorbar\":{\"outlinewidth\":0,\"ticks\":\"\"}}}],\"scatter3d\":[{\"type\":\"scatter3d\",\"line\":{\"colorbar\":{\"outlinewidth\":0,\"ticks\":\"\"}},\"marker\":{\"colorbar\":{\"outlinewidth\":0,\"ticks\":\"\"}}}],\"scattermapbox\":[{\"type\":\"scattermapbox\",\"marker\":{\"colorbar\":{\"outlinewidth\":0,\"ticks\":\"\"}}}],\"scatterternary\":[{\"type\":\"scatterternary\",\"marker\":{\"colorbar\":{\"outlinewidth\":0,\"ticks\":\"\"}}}],\"scattercarpet\":[{\"type\":\"scattercarpet\",\"marker\":{\"colorbar\":{\"outlinewidth\":0,\"ticks\":\"\"}}}],\"carpet\":[{\"aaxis\":{\"endlinecolor\":\"#2a3f5f\",\"gridcolor\":\"#C8D4E3\",\"linecolor\":\"#C8D4E3\",\"minorgridcolor\":\"#C8D4E3\",\"startlinecolor\":\"#2a3f5f\"},\"baxis\":{\"endlinecolor\":\"#2a3f5f\",\"gridcolor\":\"#C8D4E3\",\"linecolor\":\"#C8D4E3\",\"minorgridcolor\":\"#C8D4E3\",\"startlinecolor\":\"#2a3f5f\"},\"type\":\"carpet\"}],\"table\":[{\"cells\":{\"fill\":{\"color\":\"#EBF0F8\"},\"line\":{\"color\":\"white\"}},\"header\":{\"fill\":{\"color\":\"#C8D4E3\"},\"line\":{\"color\":\"white\"}},\"type\":\"table\"}],\"barpolar\":[{\"marker\":{\"line\":{\"color\":\"white\",\"width\":0.5},\"pattern\":{\"fillmode\":\"overlay\",\"size\":10,\"solidity\":0.2}},\"type\":\"barpolar\"}],\"pie\":[{\"automargin\":true,\"type\":\"pie\"}]},\"layout\":{\"autotypenumbers\":\"strict\",\"colorway\":[\"#636efa\",\"#EF553B\",\"#00cc96\",\"#ab63fa\",\"#FFA15A\",\"#19d3f3\",\"#FF6692\",\"#B6E880\",\"#FF97FF\",\"#FECB52\"],\"font\":{\"color\":\"#2a3f5f\"},\"hovermode\":\"closest\",\"hoverlabel\":{\"align\":\"left\"},\"paper_bgcolor\":\"white\",\"plot_bgcolor\":\"white\",\"polar\":{\"bgcolor\":\"white\",\"angularaxis\":{\"gridcolor\":\"#EBF0F8\",\"linecolor\":\"#EBF0F8\",\"ticks\":\"\"},\"radialaxis\":{\"gridcolor\":\"#EBF0F8\",\"linecolor\":\"#EBF0F8\",\"ticks\":\"\"}},\"ternary\":{\"bgcolor\":\"white\",\"aaxis\":{\"gridcolor\":\"#DFE8F3\",\"linecolor\":\"#A2B1C6\",\"ticks\":\"\"},\"baxis\":{\"gridcolor\":\"#DFE8F3\",\"linecolor\":\"#A2B1C6\",\"ticks\":\"\"},\"caxis\":{\"gridcolor\":\"#DFE8F3\",\"linecolor\":\"#A2B1C6\",\"ticks\":\"\"}},\"coloraxis\":{\"colorbar\":{\"outlinewidth\":0,\"ticks\":\"\"}},\"colorscale\":{\"sequential\":[[0.0,\"#0d0887\"],[0.1111111111111111,\"#46039f\"],[0.2222222222222222,\"#7201a8\"],[0.3333333333333333,\"#9c179e\"],[0.4444444444444444,\"#bd3786\"],[0.5555555555555556,\"#d8576b\"],[0.6666666666666666,\"#ed7953\"],[0.7777777777777778,\"#fb9f3a\"],[0.8888888888888888,\"#fdca26\"],[1.0,\"#f0f921\"]],\"sequentialminus\":[[0.0,\"#0d0887\"],[0.1111111111111111,\"#46039f\"],[0.2222222222222222,\"#7201a8\"],[0.3333333333333333,\"#9c179e\"],[0.4444444444444444,\"#bd3786\"],[0.5555555555555556,\"#d8576b\"],[0.6666666666666666,\"#ed7953\"],[0.7777777777777778,\"#fb9f3a\"],[0.8888888888888888,\"#fdca26\"],[1.0,\"#f0f921\"]],\"diverging\":[[0,\"#8e0152\"],[0.1,\"#c51b7d\"],[0.2,\"#de77ae\"],[0.3,\"#f1b6da\"],[0.4,\"#fde0ef\"],[0.5,\"#f7f7f7\"],[0.6,\"#e6f5d0\"],[0.7,\"#b8e186\"],[0.8,\"#7fbc41\"],[0.9,\"#4d9221\"],[1,\"#276419\"]]},\"xaxis\":{\"gridcolor\":\"#EBF0F8\",\"linecolor\":\"#EBF0F8\",\"ticks\":\"\",\"title\":{\"standoff\":15},\"zerolinecolor\":\"#EBF0F8\",\"automargin\":true,\"zerolinewidth\":2},\"yaxis\":{\"gridcolor\":\"#EBF0F8\",\"linecolor\":\"#EBF0F8\",\"ticks\":\"\",\"title\":{\"standoff\":15},\"zerolinecolor\":\"#EBF0F8\",\"automargin\":true,\"zerolinewidth\":2},\"scene\":{\"xaxis\":{\"backgroundcolor\":\"white\",\"gridcolor\":\"#DFE8F3\",\"linecolor\":\"#EBF0F8\",\"showbackground\":true,\"ticks\":\"\",\"zerolinecolor\":\"#EBF0F8\",\"gridwidth\":2},\"yaxis\":{\"backgroundcolor\":\"white\",\"gridcolor\":\"#DFE8F3\",\"linecolor\":\"#EBF0F8\",\"showbackground\":true,\"ticks\":\"\",\"zerolinecolor\":\"#EBF0F8\",\"gridwidth\":2},\"zaxis\":{\"backgroundcolor\":\"white\",\"gridcolor\":\"#DFE8F3\",\"linecolor\":\"#EBF0F8\",\"showbackground\":true,\"ticks\":\"\",\"zerolinecolor\":\"#EBF0F8\",\"gridwidth\":2}},\"shapedefaults\":{\"line\":{\"color\":\"#2a3f5f\"}},\"annotationdefaults\":{\"arrowcolor\":\"#2a3f5f\",\"arrowhead\":0,\"arrowwidth\":1},\"geo\":{\"bgcolor\":\"white\",\"landcolor\":\"white\",\"subunitcolor\":\"#C8D4E3\",\"showland\":true,\"showlakes\":true,\"lakecolor\":\"white\"},\"title\":{\"x\":0.05},\"mapbox\":{\"style\":\"light\"}}},\"xaxis\":{\"anchor\":\"y\",\"domain\":[0.0,1.0],\"title\":{\"text\":\"Z1\"}},\"yaxis\":{\"anchor\":\"x\",\"domain\":[0.0,1.0],\"title\":{\"text\":\"Z2\"}},\"legend\":{\"title\":{\"text\":\"color\"},\"tracegroupgap\":0},\"margin\":{\"t\":60},\"width\":600},                        {\"responsive\": true}                    ).then(function(){\n",
              "                            \n",
              "var gd = document.getElementById('45dc1101-770f-490a-9a27-ac431dc65281');\n",
              "var x = new MutationObserver(function (mutations, observer) {{\n",
              "        var display = window.getComputedStyle(gd).display;\n",
              "        if (!display || display === 'none') {{\n",
              "            console.log([gd, 'removed!']);\n",
              "            Plotly.purge(gd);\n",
              "            observer.disconnect();\n",
              "        }}\n",
              "}});\n",
              "\n",
              "// Listen for the removal of the full notebook cells\n",
              "var notebookContainer = gd.closest('#notebook-container');\n",
              "if (notebookContainer) {{\n",
              "    x.observe(notebookContainer, {childList: true});\n",
              "}}\n",
              "\n",
              "// Listen for the clearing of the current output cell\n",
              "var outputEl = gd.closest('.output');\n",
              "if (outputEl) {{\n",
              "    x.observe(outputEl, {childList: true});\n",
              "}}\n",
              "\n",
              "                        })                };                            </script>        </div>\n",
              "</body>\n",
              "</html>"
            ]
          },
          "metadata": {}
        },
        {
          "output_type": "display_data",
          "data": {
            "text/html": [
              "<html>\n",
              "<head><meta charset=\"utf-8\" /></head>\n",
              "<body>\n",
              "    <div>            <script src=\"https://cdnjs.cloudflare.com/ajax/libs/mathjax/2.7.5/MathJax.js?config=TeX-AMS-MML_SVG\"></script><script type=\"text/javascript\">if (window.MathJax && window.MathJax.Hub && window.MathJax.Hub.Config) {window.MathJax.Hub.Config({SVG: {font: \"STIX-Web\"}});}</script>                <script type=\"text/javascript\">window.PlotlyConfig = {MathJaxConfig: 'local'};</script>\n",
              "        <script charset=\"utf-8\" src=\"https://cdn.plot.ly/plotly-2.24.1.min.js\"></script>                <div id=\"a90fdb92-41e3-48b4-94a0-d6393de557b3\" class=\"plotly-graph-div\" style=\"height:525px; width:600px;\"></div>            <script type=\"text/javascript\">                                    window.PLOTLYENV=window.PLOTLYENV || {};                                    if (document.getElementById(\"a90fdb92-41e3-48b4-94a0-d6393de557b3\")) {                    Plotly.newPlot(                        \"a90fdb92-41e3-48b4-94a0-d6393de557b3\",                        [{\"hovertemplate\":\"color=BR:MCF7\\u003cbr\\u003ex=%{x}\\u003cbr\\u003ey=%{y}\\u003cextra\\u003e\\u003c\\u002fextra\\u003e\",\"legendgroup\":\"BR:MCF7\",\"marker\":{\"color\":\"#636efa\",\"symbol\":\"circle\"},\"mode\":\"markers\",\"name\":\"BR:MCF7\",\"orientation\":\"v\",\"showlegend\":true,\"x\":[41.427079492581534],\"xaxis\":\"x\",\"y\":[9.65722090264979],\"yaxis\":\"y\",\"type\":\"scatter\"},{\"hovertemplate\":\"color=BR:MDA-MB-231\\u003cbr\\u003ex=%{x}\\u003cbr\\u003ey=%{y}\\u003cextra\\u003e\\u003c\\u002fextra\\u003e\",\"legendgroup\":\"BR:MDA-MB-231\",\"marker\":{\"color\":\"#EF553B\",\"symbol\":\"circle\"},\"mode\":\"markers\",\"name\":\"BR:MDA-MB-231\",\"orientation\":\"v\",\"showlegend\":true,\"x\":[-14.097969679510426],\"xaxis\":\"x\",\"y\":[37.59371774554381],\"yaxis\":\"y\",\"type\":\"scatter\"},{\"hovertemplate\":\"color=BR:HS 578T\\u003cbr\\u003ex=%{x}\\u003cbr\\u003ey=%{y}\\u003cextra\\u003e\\u003c\\u002fextra\\u003e\",\"legendgroup\":\"BR:HS 578T\",\"marker\":{\"color\":\"#00cc96\",\"symbol\":\"circle\"},\"mode\":\"markers\",\"name\":\"BR:HS 578T\",\"orientation\":\"v\",\"showlegend\":true,\"x\":[-71.89027710954979],\"xaxis\":\"x\",\"y\":[-32.712075374682975],\"yaxis\":\"y\",\"type\":\"scatter\"},{\"hovertemplate\":\"color=BR:BT-549\\u003cbr\\u003ex=%{x}\\u003cbr\\u003ey=%{y}\\u003cextra\\u003e\\u003c\\u002fextra\\u003e\",\"legendgroup\":\"BR:BT-549\",\"marker\":{\"color\":\"#ab63fa\",\"symbol\":\"circle\"},\"mode\":\"markers\",\"name\":\"BR:BT-549\",\"orientation\":\"v\",\"showlegend\":true,\"x\":[-67.81136840567507],\"xaxis\":\"x\",\"y\":[90.27761739522842],\"yaxis\":\"y\",\"type\":\"scatter\"},{\"hovertemplate\":\"color=BR:T-47D\\u003cbr\\u003ex=%{x}\\u003cbr\\u003ey=%{y}\\u003cextra\\u003e\\u003c\\u002fextra\\u003e\",\"legendgroup\":\"BR:T-47D\",\"marker\":{\"color\":\"#FFA15A\",\"symbol\":\"circle\"},\"mode\":\"markers\",\"name\":\"BR:T-47D\",\"orientation\":\"v\",\"showlegend\":true,\"x\":[97.9547362512278],\"xaxis\":\"x\",\"y\":[68.68075602201903],\"yaxis\":\"y\",\"type\":\"scatter\"},{\"hovertemplate\":\"color=CNS:SF-268\\u003cbr\\u003ex=%{x}\\u003cbr\\u003ey=%{y}\\u003cextra\\u003e\\u003c\\u002fextra\\u003e\",\"legendgroup\":\"CNS:SF-268\",\"marker\":{\"color\":\"#19d3f3\",\"symbol\":\"circle\"},\"mode\":\"markers\",\"name\":\"CNS:SF-268\",\"orientation\":\"v\",\"showlegend\":true,\"x\":[-29.2241353658093],\"xaxis\":\"x\",\"y\":[-52.88572441874722],\"yaxis\":\"y\",\"type\":\"scatter\"},{\"hovertemplate\":\"color=CNS:SF-295\\u003cbr\\u003ex=%{x}\\u003cbr\\u003ey=%{y}\\u003cextra\\u003e\\u003c\\u002fextra\\u003e\",\"legendgroup\":\"CNS:SF-295\",\"marker\":{\"color\":\"#FF6692\",\"symbol\":\"circle\"},\"mode\":\"markers\",\"name\":\"CNS:SF-295\",\"orientation\":\"v\",\"showlegend\":true,\"x\":[-48.29679245571085],\"xaxis\":\"x\",\"y\":[15.524273808826322],\"yaxis\":\"y\",\"type\":\"scatter\"},{\"hovertemplate\":\"color=CNS:SF-539\\u003cbr\\u003ex=%{x}\\u003cbr\\u003ey=%{y}\\u003cextra\\u003e\\u003c\\u002fextra\\u003e\",\"legendgroup\":\"CNS:SF-539\",\"marker\":{\"color\":\"#B6E880\",\"symbol\":\"circle\"},\"mode\":\"markers\",\"name\":\"CNS:SF-539\",\"orientation\":\"v\",\"showlegend\":true,\"x\":[-57.65115230528164],\"xaxis\":\"x\",\"y\":[-10.613753253962052],\"yaxis\":\"y\",\"type\":\"scatter\"},{\"hovertemplate\":\"color=CNS:SNB-19\\u003cbr\\u003ex=%{x}\\u003cbr\\u003ey=%{y}\\u003cextra\\u003e\\u003c\\u002fextra\\u003e\",\"legendgroup\":\"CNS:SNB-19\",\"marker\":{\"color\":\"#FF97FF\",\"symbol\":\"circle\"},\"mode\":\"markers\",\"name\":\"CNS:SNB-19\",\"orientation\":\"v\",\"showlegend\":true,\"x\":[-34.56169077498125],\"xaxis\":\"x\",\"y\":[14.518931925729829],\"yaxis\":\"y\",\"type\":\"scatter\"},{\"hovertemplate\":\"color=CNS:SNB-75\\u003cbr\\u003ex=%{x}\\u003cbr\\u003ey=%{y}\\u003cextra\\u003e\\u003c\\u002fextra\\u003e\",\"legendgroup\":\"CNS:SNB-75\",\"marker\":{\"color\":\"#FECB52\",\"symbol\":\"circle\"},\"mode\":\"markers\",\"name\":\"CNS:SNB-75\",\"orientation\":\"v\",\"showlegend\":true,\"x\":[-76.83313201480455],\"xaxis\":\"x\",\"y\":[31.442244391013425],\"yaxis\":\"y\",\"type\":\"scatter\"},{\"hovertemplate\":\"color=CNS:U251\\u003cbr\\u003ex=%{x}\\u003cbr\\u003ey=%{y}\\u003cextra\\u003e\\u003c\\u002fextra\\u003e\",\"legendgroup\":\"CNS:U251\",\"marker\":{\"color\":\"#636efa\",\"symbol\":\"circle\"},\"mode\":\"markers\",\"name\":\"CNS:U251\",\"orientation\":\"v\",\"showlegend\":true,\"x\":[-15.689382345148715],\"xaxis\":\"x\",\"y\":[21.84352610716703],\"yaxis\":\"y\",\"type\":\"scatter\"},{\"hovertemplate\":\"color=CO:COLO 205\\u003cbr\\u003ex=%{x}\\u003cbr\\u003ey=%{y}\\u003cextra\\u003e\\u003c\\u002fextra\\u003e\",\"legendgroup\":\"CO:COLO 205\",\"marker\":{\"color\":\"#EF553B\",\"symbol\":\"circle\"},\"mode\":\"markers\",\"name\":\"CO:COLO 205\",\"orientation\":\"v\",\"showlegend\":true,\"x\":[22.158585400040064],\"xaxis\":\"x\",\"y\":[20.210514280066803],\"yaxis\":\"y\",\"type\":\"scatter\"},{\"hovertemplate\":\"color=CO:HCC-2998\\u003cbr\\u003ex=%{x}\\u003cbr\\u003ey=%{y}\\u003cextra\\u003e\\u003c\\u002fextra\\u003e\",\"legendgroup\":\"CO:HCC-2998\",\"marker\":{\"color\":\"#00cc96\",\"symbol\":\"circle\"},\"mode\":\"markers\",\"name\":\"CO:HCC-2998\",\"orientation\":\"v\",\"showlegend\":true,\"x\":[-14.790232838800144],\"xaxis\":\"x\",\"y\":[3.8803771419686437],\"yaxis\":\"y\",\"type\":\"scatter\"},{\"hovertemplate\":\"color=CO:HCT-116\\u003cbr\\u003ex=%{x}\\u003cbr\\u003ey=%{y}\\u003cextra\\u003e\\u003c\\u002fextra\\u003e\",\"legendgroup\":\"CO:HCT-116\",\"marker\":{\"color\":\"#ab63fa\",\"symbol\":\"circle\"},\"mode\":\"markers\",\"name\":\"CO:HCT-116\",\"orientation\":\"v\",\"showlegend\":true,\"x\":[17.879716309300086],\"xaxis\":\"x\",\"y\":[-18.49578115080858],\"yaxis\":\"y\",\"type\":\"scatter\"},{\"hovertemplate\":\"color=CO:HCT-15\\u003cbr\\u003ex=%{x}\\u003cbr\\u003ey=%{y}\\u003cextra\\u003e\\u003c\\u002fextra\\u003e\",\"legendgroup\":\"CO:HCT-15\",\"marker\":{\"color\":\"#FFA15A\",\"symbol\":\"circle\"},\"mode\":\"markers\",\"name\":\"CO:HCT-15\",\"orientation\":\"v\",\"showlegend\":true,\"x\":[7.449373936839675],\"xaxis\":\"x\",\"y\":[-26.654509493511714],\"yaxis\":\"y\",\"type\":\"scatter\"},{\"hovertemplate\":\"color=CO:HT29\\u003cbr\\u003ex=%{x}\\u003cbr\\u003ey=%{y}\\u003cextra\\u003e\\u003c\\u002fextra\\u003e\",\"legendgroup\":\"CO:HT29\",\"marker\":{\"color\":\"#19d3f3\",\"symbol\":\"circle\"},\"mode\":\"markers\",\"name\":\"CO:HT29\",\"orientation\":\"v\",\"showlegend\":true,\"x\":[6.703828546858205],\"xaxis\":\"x\",\"y\":[21.855537608321328],\"yaxis\":\"y\",\"type\":\"scatter\"},{\"hovertemplate\":\"color=CO:KM12\\u003cbr\\u003ex=%{x}\\u003cbr\\u003ey=%{y}\\u003cextra\\u003e\\u003c\\u002fextra\\u003e\",\"legendgroup\":\"CO:KM12\",\"marker\":{\"color\":\"#FF6692\",\"symbol\":\"circle\"},\"mode\":\"markers\",\"name\":\"CO:KM12\",\"orientation\":\"v\",\"showlegend\":true,\"x\":[17.829571585931095],\"xaxis\":\"x\",\"y\":[-43.484667227892444],\"yaxis\":\"y\",\"type\":\"scatter\"},{\"hovertemplate\":\"color=CO:SW-620\\u003cbr\\u003ex=%{x}\\u003cbr\\u003ey=%{y}\\u003cextra\\u003e\\u003c\\u002fextra\\u003e\",\"legendgroup\":\"CO:SW-620\",\"marker\":{\"color\":\"#B6E880\",\"symbol\":\"circle\"},\"mode\":\"markers\",\"name\":\"CO:SW-620\",\"orientation\":\"v\",\"showlegend\":true,\"x\":[12.86150687773715],\"xaxis\":\"x\",\"y\":[-11.702314452922332],\"yaxis\":\"y\",\"type\":\"scatter\"},{\"hovertemplate\":\"color=LE:CCRF-CEM\\u003cbr\\u003ex=%{x}\\u003cbr\\u003ey=%{y}\\u003cextra\\u003e\\u003c\\u002fextra\\u003e\",\"legendgroup\":\"LE:CCRF-CEM\",\"marker\":{\"color\":\"#FF97FF\",\"symbol\":\"circle\"},\"mode\":\"markers\",\"name\":\"LE:CCRF-CEM\",\"orientation\":\"v\",\"showlegend\":true,\"x\":[-24.27918184229181],\"xaxis\":\"x\",\"y\":[-34.50570780730675],\"yaxis\":\"y\",\"type\":\"scatter\"},{\"hovertemplate\":\"color=LE:HL-60(TB)\\u003cbr\\u003ex=%{x}\\u003cbr\\u003ey=%{y}\\u003cextra\\u003e\\u003c\\u002fextra\\u003e\",\"legendgroup\":\"LE:HL-60(TB)\",\"marker\":{\"color\":\"#FECB52\",\"symbol\":\"circle\"},\"mode\":\"markers\",\"name\":\"LE:HL-60(TB)\",\"orientation\":\"v\",\"showlegend\":true,\"x\":[-25.266099328663863],\"xaxis\":\"x\",\"y\":[-58.73995188364491],\"yaxis\":\"y\",\"type\":\"scatter\"},{\"hovertemplate\":\"color=LE:K-562\\u003cbr\\u003ex=%{x}\\u003cbr\\u003ey=%{y}\\u003cextra\\u003e\\u003c\\u002fextra\\u003e\",\"legendgroup\":\"LE:K-562\",\"marker\":{\"color\":\"#636efa\",\"symbol\":\"circle\"},\"mode\":\"markers\",\"name\":\"LE:K-562\",\"orientation\":\"v\",\"showlegend\":true,\"x\":[-26.993962324301833],\"xaxis\":\"x\",\"y\":[25.019912861102835],\"yaxis\":\"y\",\"type\":\"scatter\"},{\"hovertemplate\":\"color=LE:MOLT-4\\u003cbr\\u003ex=%{x}\\u003cbr\\u003ey=%{y}\\u003cextra\\u003e\\u003c\\u002fextra\\u003e\",\"legendgroup\":\"LE:MOLT-4\",\"marker\":{\"color\":\"#EF553B\",\"symbol\":\"circle\"},\"mode\":\"markers\",\"name\":\"LE:MOLT-4\",\"orientation\":\"v\",\"showlegend\":true,\"x\":[-1.4310827207413026],\"xaxis\":\"x\",\"y\":[-36.93113886796246],\"yaxis\":\"y\",\"type\":\"scatter\"},{\"hovertemplate\":\"color=LE:RPMI-8226\\u003cbr\\u003ex=%{x}\\u003cbr\\u003ey=%{y}\\u003cextra\\u003e\\u003c\\u002fextra\\u003e\",\"legendgroup\":\"LE:RPMI-8226\",\"marker\":{\"color\":\"#00cc96\",\"symbol\":\"circle\"},\"mode\":\"markers\",\"name\":\"LE:RPMI-8226\",\"orientation\":\"v\",\"showlegend\":true,\"x\":[-23.15692154080696],\"xaxis\":\"x\",\"y\":[4.9400958880246835],\"yaxis\":\"y\",\"type\":\"scatter\"},{\"hovertemplate\":\"color=LE:SR\\u003cbr\\u003ex=%{x}\\u003cbr\\u003ey=%{y}\\u003cextra\\u003e\\u003c\\u002fextra\\u003e\",\"legendgroup\":\"LE:SR\",\"marker\":{\"color\":\"#ab63fa\",\"symbol\":\"circle\"},\"mode\":\"markers\",\"name\":\"LE:SR\",\"orientation\":\"v\",\"showlegend\":true,\"x\":[12.853835241459334],\"xaxis\":\"x\",\"y\":[19.45359729057726],\"yaxis\":\"y\",\"type\":\"scatter\"},{\"hovertemplate\":\"color=ME:LOX IMVI\\u003cbr\\u003ex=%{x}\\u003cbr\\u003ey=%{y}\\u003cextra\\u003e\\u003c\\u002fextra\\u003e\",\"legendgroup\":\"ME:LOX IMVI\",\"marker\":{\"color\":\"#FFA15A\",\"symbol\":\"circle\"},\"mode\":\"markers\",\"name\":\"ME:LOX IMVI\",\"orientation\":\"v\",\"showlegend\":true,\"x\":[50.893971806652935],\"xaxis\":\"x\",\"y\":[-43.21461633805594],\"yaxis\":\"y\",\"type\":\"scatter\"},{\"hovertemplate\":\"color=ME:MALME-3M\\u003cbr\\u003ex=%{x}\\u003cbr\\u003ey=%{y}\\u003cextra\\u003e\\u003c\\u002fextra\\u003e\",\"legendgroup\":\"ME:MALME-3M\",\"marker\":{\"color\":\"#19d3f3\",\"symbol\":\"circle\"},\"mode\":\"markers\",\"name\":\"ME:MALME-3M\",\"orientation\":\"v\",\"showlegend\":true,\"x\":[29.308924857770208],\"xaxis\":\"x\",\"y\":[-20.140864261889405],\"yaxis\":\"y\",\"type\":\"scatter\"},{\"hovertemplate\":\"color=ME:M14\\u003cbr\\u003ex=%{x}\\u003cbr\\u003ey=%{y}\\u003cextra\\u003e\\u003c\\u002fextra\\u003e\",\"legendgroup\":\"ME:M14\",\"marker\":{\"color\":\"#FF6692\",\"symbol\":\"circle\"},\"mode\":\"markers\",\"name\":\"ME:M14\",\"orientation\":\"v\",\"showlegend\":true,\"x\":[-37.15961898718424],\"xaxis\":\"x\",\"y\":[-19.012141812204053],\"yaxis\":\"y\",\"type\":\"scatter\"},{\"hovertemplate\":\"color=ME:SK-MEL-2\\u003cbr\\u003ex=%{x}\\u003cbr\\u003ey=%{y}\\u003cextra\\u003e\\u003c\\u002fextra\\u003e\",\"legendgroup\":\"ME:SK-MEL-2\",\"marker\":{\"color\":\"#B6E880\",\"symbol\":\"circle\"},\"mode\":\"markers\",\"name\":\"ME:SK-MEL-2\",\"orientation\":\"v\",\"showlegend\":true,\"x\":[-8.712519935353717],\"xaxis\":\"x\",\"y\":[10.170738057287194],\"yaxis\":\"y\",\"type\":\"scatter\"},{\"hovertemplate\":\"color=ME:SK-MEL-28\\u003cbr\\u003ex=%{x}\\u003cbr\\u003ey=%{y}\\u003cextra\\u003e\\u003c\\u002fextra\\u003e\",\"legendgroup\":\"ME:SK-MEL-28\",\"marker\":{\"color\":\"#FF97FF\",\"symbol\":\"circle\"},\"mode\":\"markers\",\"name\":\"ME:SK-MEL-28\",\"orientation\":\"v\",\"showlegend\":true,\"x\":[-84.65456100633229],\"xaxis\":\"x\",\"y\":[-84.8361792185065],\"yaxis\":\"y\",\"type\":\"scatter\"},{\"hovertemplate\":\"color=ME:SK-MEL-5\\u003cbr\\u003ex=%{x}\\u003cbr\\u003ey=%{y}\\u003cextra\\u003e\\u003c\\u002fextra\\u003e\",\"legendgroup\":\"ME:SK-MEL-5\",\"marker\":{\"color\":\"#FECB52\",\"symbol\":\"circle\"},\"mode\":\"markers\",\"name\":\"ME:SK-MEL-5\",\"orientation\":\"v\",\"showlegend\":true,\"x\":[8.50435872967018],\"xaxis\":\"x\",\"y\":[15.579536455260873],\"yaxis\":\"y\",\"type\":\"scatter\"},{\"hovertemplate\":\"color=ME:UACC-257\\u003cbr\\u003ex=%{x}\\u003cbr\\u003ey=%{y}\\u003cextra\\u003e\\u003c\\u002fextra\\u003e\",\"legendgroup\":\"ME:UACC-257\",\"marker\":{\"color\":\"#636efa\",\"symbol\":\"circle\"},\"mode\":\"markers\",\"name\":\"ME:UACC-257\",\"orientation\":\"v\",\"showlegend\":true,\"x\":[-36.351942798627014],\"xaxis\":\"x\",\"y\":[-59.386217023975135],\"yaxis\":\"y\",\"type\":\"scatter\"},{\"hovertemplate\":\"color=ME:UACC-62\\u003cbr\\u003ex=%{x}\\u003cbr\\u003ey=%{y}\\u003cextra\\u003e\\u003c\\u002fextra\\u003e\",\"legendgroup\":\"ME:UACC-62\",\"marker\":{\"color\":\"#EF553B\",\"symbol\":\"circle\"},\"mode\":\"markers\",\"name\":\"ME:UACC-62\",\"orientation\":\"v\",\"showlegend\":true,\"x\":[-28.778516607119457],\"xaxis\":\"x\",\"y\":[1.6766201532993799],\"yaxis\":\"y\",\"type\":\"scatter\"},{\"hovertemplate\":\"color=ME:MDA-MB-435\\u003cbr\\u003ex=%{x}\\u003cbr\\u003ey=%{y}\\u003cextra\\u003e\\u003c\\u002fextra\\u003e\",\"legendgroup\":\"ME:MDA-MB-435\",\"marker\":{\"color\":\"#00cc96\",\"symbol\":\"circle\"},\"mode\":\"markers\",\"name\":\"ME:MDA-MB-435\",\"orientation\":\"v\",\"showlegend\":true,\"x\":[-55.95644285342122],\"xaxis\":\"x\",\"y\":[-21.438066716809246],\"yaxis\":\"y\",\"type\":\"scatter\"},{\"hovertemplate\":\"color=ME:MDA-N\\u003cbr\\u003ex=%{x}\\u003cbr\\u003ey=%{y}\\u003cextra\\u003e\\u003c\\u002fextra\\u003e\",\"legendgroup\":\"ME:MDA-N\",\"marker\":{\"color\":\"#ab63fa\",\"symbol\":\"circle\"},\"mode\":\"markers\",\"name\":\"ME:MDA-N\",\"orientation\":\"v\",\"showlegend\":true,\"x\":[-47.46123185326634],\"xaxis\":\"x\",\"y\":[-7.727782478640232],\"yaxis\":\"y\",\"type\":\"scatter\"},{\"hovertemplate\":\"color=LC:A549\\u002fATCC\\u003cbr\\u003ex=%{x}\\u003cbr\\u003ey=%{y}\\u003cextra\\u003e\\u003c\\u002fextra\\u003e\",\"legendgroup\":\"LC:A549\\u002fATCC\",\"marker\":{\"color\":\"#FFA15A\",\"symbol\":\"circle\"},\"mode\":\"markers\",\"name\":\"LC:A549\\u002fATCC\",\"orientation\":\"v\",\"showlegend\":true,\"x\":[60.976038093150656],\"xaxis\":\"x\",\"y\":[-19.05037583678977],\"yaxis\":\"y\",\"type\":\"scatter\"},{\"hovertemplate\":\"color=LC:EKVX\\u003cbr\\u003ex=%{x}\\u003cbr\\u003ey=%{y}\\u003cextra\\u003e\\u003c\\u002fextra\\u003e\",\"legendgroup\":\"LC:EKVX\",\"marker\":{\"color\":\"#19d3f3\",\"symbol\":\"circle\"},\"mode\":\"markers\",\"name\":\"LC:EKVX\",\"orientation\":\"v\",\"showlegend\":true,\"x\":[29.718315162077193],\"xaxis\":\"x\",\"y\":[15.956579992870347],\"yaxis\":\"y\",\"type\":\"scatter\"},{\"hovertemplate\":\"color=LC:HOP-62\\u003cbr\\u003ex=%{x}\\u003cbr\\u003ey=%{y}\\u003cextra\\u003e\\u003c\\u002fextra\\u003e\",\"legendgroup\":\"LC:HOP-62\",\"marker\":{\"color\":\"#FF6692\",\"symbol\":\"circle\"},\"mode\":\"markers\",\"name\":\"LC:HOP-62\",\"orientation\":\"v\",\"showlegend\":true,\"x\":[21.091978540164273],\"xaxis\":\"x\",\"y\":[6.529545344694736],\"yaxis\":\"y\",\"type\":\"scatter\"},{\"hovertemplate\":\"color=LC:HOP-92\\u003cbr\\u003ex=%{x}\\u003cbr\\u003ey=%{y}\\u003cextra\\u003e\\u003c\\u002fextra\\u003e\",\"legendgroup\":\"LC:HOP-92\",\"marker\":{\"color\":\"#B6E880\",\"symbol\":\"circle\"},\"mode\":\"markers\",\"name\":\"LC:HOP-92\",\"orientation\":\"v\",\"showlegend\":true,\"x\":[0.0896609142462987],\"xaxis\":\"x\",\"y\":[70.37977645693626],\"yaxis\":\"y\",\"type\":\"scatter\"},{\"hovertemplate\":\"color=LC:NCI-H226\\u003cbr\\u003ex=%{x}\\u003cbr\\u003ey=%{y}\\u003cextra\\u003e\\u003c\\u002fextra\\u003e\",\"legendgroup\":\"LC:NCI-H226\",\"marker\":{\"color\":\"#FF97FF\",\"symbol\":\"circle\"},\"mode\":\"markers\",\"name\":\"LC:NCI-H226\",\"orientation\":\"v\",\"showlegend\":true,\"x\":[26.7017973220527],\"xaxis\":\"x\",\"y\":[1.2493936452175602],\"yaxis\":\"y\",\"type\":\"scatter\"},{\"hovertemplate\":\"color=LC:NCI-H23\\u003cbr\\u003ex=%{x}\\u003cbr\\u003ey=%{y}\\u003cextra\\u003e\\u003c\\u002fextra\\u003e\",\"legendgroup\":\"LC:NCI-H23\",\"marker\":{\"color\":\"#FECB52\",\"symbol\":\"circle\"},\"mode\":\"markers\",\"name\":\"LC:NCI-H23\",\"orientation\":\"v\",\"showlegend\":true,\"x\":[55.380877818520155],\"xaxis\":\"x\",\"y\":[28.562730358937],\"yaxis\":\"y\",\"type\":\"scatter\"},{\"hovertemplate\":\"color=LC:NCI-H322M\\u003cbr\\u003ex=%{x}\\u003cbr\\u003ey=%{y}\\u003cextra\\u003e\\u003c\\u002fextra\\u003e\",\"legendgroup\":\"LC:NCI-H322M\",\"marker\":{\"color\":\"#636efa\",\"symbol\":\"circle\"},\"mode\":\"markers\",\"name\":\"LC:NCI-H322M\",\"orientation\":\"v\",\"showlegend\":true,\"x\":[96.28162730030445],\"xaxis\":\"x\",\"y\":[-54.068424536152435],\"yaxis\":\"y\",\"type\":\"scatter\"},{\"hovertemplate\":\"color=LC:NCI-H460\\u003cbr\\u003ex=%{x}\\u003cbr\\u003ey=%{y}\\u003cextra\\u003e\\u003c\\u002fextra\\u003e\",\"legendgroup\":\"LC:NCI-H460\",\"marker\":{\"color\":\"#EF553B\",\"symbol\":\"circle\"},\"mode\":\"markers\",\"name\":\"LC:NCI-H460\",\"orientation\":\"v\",\"showlegend\":true,\"x\":[75.23645206672192],\"xaxis\":\"x\",\"y\":[48.65269853419473],\"yaxis\":\"y\",\"type\":\"scatter\"},{\"hovertemplate\":\"color=LC:NCI-H522\\u003cbr\\u003ex=%{x}\\u003cbr\\u003ey=%{y}\\u003cextra\\u003e\\u003c\\u002fextra\\u003e\",\"legendgroup\":\"LC:NCI-H522\",\"marker\":{\"color\":\"#00cc96\",\"symbol\":\"circle\"},\"mode\":\"markers\",\"name\":\"LC:NCI-H522\",\"orientation\":\"v\",\"showlegend\":true,\"x\":[5.2197488094345585],\"xaxis\":\"x\",\"y\":[46.701388196918074],\"yaxis\":\"y\",\"type\":\"scatter\"},{\"hovertemplate\":\"color=OV:IGROV1\\u003cbr\\u003ex=%{x}\\u003cbr\\u003ey=%{y}\\u003cextra\\u003e\\u003c\\u002fextra\\u003e\",\"legendgroup\":\"OV:IGROV1\",\"marker\":{\"color\":\"#ab63fa\",\"symbol\":\"circle\"},\"mode\":\"markers\",\"name\":\"OV:IGROV1\",\"orientation\":\"v\",\"showlegend\":true,\"x\":[-1.6669225694954986],\"xaxis\":\"x\",\"y\":[-0.3605207686697812],\"yaxis\":\"y\",\"type\":\"scatter\"},{\"hovertemplate\":\"color=OV:OVCAR-3\\u003cbr\\u003ex=%{x}\\u003cbr\\u003ey=%{y}\\u003cextra\\u003e\\u003c\\u002fextra\\u003e\",\"legendgroup\":\"OV:OVCAR-3\",\"marker\":{\"color\":\"#FFA15A\",\"symbol\":\"circle\"},\"mode\":\"markers\",\"name\":\"OV:OVCAR-3\",\"orientation\":\"v\",\"showlegend\":true,\"x\":[-36.91971556113491],\"xaxis\":\"x\",\"y\":[20.553951746490114],\"yaxis\":\"y\",\"type\":\"scatter\"},{\"hovertemplate\":\"color=OV:OVCAR-4\\u003cbr\\u003ex=%{x}\\u003cbr\\u003ey=%{y}\\u003cextra\\u003e\\u003c\\u002fextra\\u003e\",\"legendgroup\":\"OV:OVCAR-4\",\"marker\":{\"color\":\"#19d3f3\",\"symbol\":\"circle\"},\"mode\":\"markers\",\"name\":\"OV:OVCAR-4\",\"orientation\":\"v\",\"showlegend\":true,\"x\":[-91.63252103177336],\"xaxis\":\"x\",\"y\":[66.28889765763982],\"yaxis\":\"y\",\"type\":\"scatter\"},{\"hovertemplate\":\"color=OV:OVCAR-5\\u003cbr\\u003ex=%{x}\\u003cbr\\u003ey=%{y}\\u003cextra\\u003e\\u003c\\u002fextra\\u003e\",\"legendgroup\":\"OV:OVCAR-5\",\"marker\":{\"color\":\"#FF6692\",\"symbol\":\"circle\"},\"mode\":\"markers\",\"name\":\"OV:OVCAR-5\",\"orientation\":\"v\",\"showlegend\":true,\"x\":[41.397159013034006],\"xaxis\":\"x\",\"y\":[-38.30689934567993],\"yaxis\":\"y\",\"type\":\"scatter\"},{\"hovertemplate\":\"color=OV:OVCAR-8\\u003cbr\\u003ex=%{x}\\u003cbr\\u003ey=%{y}\\u003cextra\\u003e\\u003c\\u002fextra\\u003e\",\"legendgroup\":\"OV:OVCAR-8\",\"marker\":{\"color\":\"#B6E880\",\"symbol\":\"circle\"},\"mode\":\"markers\",\"name\":\"OV:OVCAR-8\",\"orientation\":\"v\",\"showlegend\":true,\"x\":[29.967217661378836],\"xaxis\":\"x\",\"y\":[-25.620722571514566],\"yaxis\":\"y\",\"type\":\"scatter\"},{\"hovertemplate\":\"color=OV:SK-OV-3\\u003cbr\\u003ex=%{x}\\u003cbr\\u003ey=%{y}\\u003cextra\\u003e\\u003c\\u002fextra\\u003e\",\"legendgroup\":\"OV:SK-OV-3\",\"marker\":{\"color\":\"#FF97FF\",\"symbol\":\"circle\"},\"mode\":\"markers\",\"name\":\"OV:SK-OV-3\",\"orientation\":\"v\",\"showlegend\":true,\"x\":[-26.162789708322855],\"xaxis\":\"x\",\"y\":[-10.616450130706452],\"yaxis\":\"y\",\"type\":\"scatter\"},{\"hovertemplate\":\"color=OV:NCI\\u002fADR-RES\\u003cbr\\u003ex=%{x}\\u003cbr\\u003ey=%{y}\\u003cextra\\u003e\\u003c\\u002fextra\\u003e\",\"legendgroup\":\"OV:NCI\\u002fADR-RES\",\"marker\":{\"color\":\"#FECB52\",\"symbol\":\"circle\"},\"mode\":\"markers\",\"name\":\"OV:NCI\\u002fADR-RES\",\"orientation\":\"v\",\"showlegend\":true,\"x\":[37.464260756169544],\"xaxis\":\"x\",\"y\":[-49.66249006185495],\"yaxis\":\"y\",\"type\":\"scatter\"},{\"hovertemplate\":\"color=PR:PC-3\\u003cbr\\u003ex=%{x}\\u003cbr\\u003ey=%{y}\\u003cextra\\u003e\\u003c\\u002fextra\\u003e\",\"legendgroup\":\"PR:PC-3\",\"marker\":{\"color\":\"#636efa\",\"symbol\":\"circle\"},\"mode\":\"markers\",\"name\":\"PR:PC-3\",\"orientation\":\"v\",\"showlegend\":true,\"x\":[-22.36418416199595],\"xaxis\":\"x\",\"y\":[32.47199357985084],\"yaxis\":\"y\",\"type\":\"scatter\"},{\"hovertemplate\":\"color=PR:DU-145\\u003cbr\\u003ex=%{x}\\u003cbr\\u003ey=%{y}\\u003cextra\\u003e\\u003c\\u002fextra\\u003e\",\"legendgroup\":\"PR:DU-145\",\"marker\":{\"color\":\"#EF553B\",\"symbol\":\"circle\"},\"mode\":\"markers\",\"name\":\"PR:DU-145\",\"orientation\":\"v\",\"showlegend\":true,\"x\":[61.96842738606004],\"xaxis\":\"x\",\"y\":[38.47801896681012],\"yaxis\":\"y\",\"type\":\"scatter\"},{\"hovertemplate\":\"color=RE:786-0\\u003cbr\\u003ex=%{x}\\u003cbr\\u003ey=%{y}\\u003cextra\\u003e\\u003c\\u002fextra\\u003e\",\"legendgroup\":\"RE:786-0\",\"marker\":{\"color\":\"#00cc96\",\"symbol\":\"circle\"},\"mode\":\"markers\",\"name\":\"RE:786-0\",\"orientation\":\"v\",\"showlegend\":true,\"x\":[-18.00086281854946],\"xaxis\":\"x\",\"y\":[-1.8963319408671486],\"yaxis\":\"y\",\"type\":\"scatter\"},{\"hovertemplate\":\"color=RE:A498\\u003cbr\\u003ex=%{x}\\u003cbr\\u003ey=%{y}\\u003cextra\\u003e\\u003c\\u002fextra\\u003e\",\"legendgroup\":\"RE:A498\",\"marker\":{\"color\":\"#ab63fa\",\"symbol\":\"circle\"},\"mode\":\"markers\",\"name\":\"RE:A498\",\"orientation\":\"v\",\"showlegend\":true,\"x\":[-0.4524202609790498],\"xaxis\":\"x\",\"y\":[56.91772238465767],\"yaxis\":\"y\",\"type\":\"scatter\"},{\"hovertemplate\":\"color=RE:ACHN\\u003cbr\\u003ex=%{x}\\u003cbr\\u003ey=%{y}\\u003cextra\\u003e\\u003c\\u002fextra\\u003e\",\"legendgroup\":\"RE:ACHN\",\"marker\":{\"color\":\"#FFA15A\",\"symbol\":\"circle\"},\"mode\":\"markers\",\"name\":\"RE:ACHN\",\"orientation\":\"v\",\"showlegend\":true,\"x\":[76.94058946660941],\"xaxis\":\"x\",\"y\":[-52.49465465850437],\"yaxis\":\"y\",\"type\":\"scatter\"},{\"hovertemplate\":\"color=RE:CAKI-1\\u003cbr\\u003ex=%{x}\\u003cbr\\u003ey=%{y}\\u003cextra\\u003e\\u003c\\u002fextra\\u003e\",\"legendgroup\":\"RE:CAKI-1\",\"marker\":{\"color\":\"#19d3f3\",\"symbol\":\"circle\"},\"mode\":\"markers\",\"name\":\"RE:CAKI-1\",\"orientation\":\"v\",\"showlegend\":true,\"x\":[68.92628416317834],\"xaxis\":\"x\",\"y\":[58.587080714557125],\"yaxis\":\"y\",\"type\":\"scatter\"},{\"hovertemplate\":\"color=RE:RXF 393\\u003cbr\\u003ex=%{x}\\u003cbr\\u003ey=%{y}\\u003cextra\\u003e\\u003c\\u002fextra\\u003e\",\"legendgroup\":\"RE:RXF 393\",\"marker\":{\"color\":\"#FF6692\",\"symbol\":\"circle\"},\"mode\":\"markers\",\"name\":\"RE:RXF 393\",\"orientation\":\"v\",\"showlegend\":true,\"x\":[-57.91754258381647],\"xaxis\":\"x\",\"y\":[-3.1727107857156898],\"yaxis\":\"y\",\"type\":\"scatter\"},{\"hovertemplate\":\"color=RE:SN12C\\u003cbr\\u003ex=%{x}\\u003cbr\\u003ey=%{y}\\u003cextra\\u003e\\u003c\\u002fextra\\u003e\",\"legendgroup\":\"RE:SN12C\",\"marker\":{\"color\":\"#B6E880\",\"symbol\":\"circle\"},\"mode\":\"markers\",\"name\":\"RE:SN12C\",\"orientation\":\"v\",\"showlegend\":true,\"x\":[35.43178752691246],\"xaxis\":\"x\",\"y\":[-12.927984394169723],\"yaxis\":\"y\",\"type\":\"scatter\"},{\"hovertemplate\":\"color=RE:TK-10\\u003cbr\\u003ex=%{x}\\u003cbr\\u003ey=%{y}\\u003cextra\\u003e\\u003c\\u002fextra\\u003e\",\"legendgroup\":\"RE:TK-10\",\"marker\":{\"color\":\"#FF97FF\",\"symbol\":\"circle\"},\"mode\":\"markers\",\"name\":\"RE:TK-10\",\"orientation\":\"v\",\"showlegend\":true,\"x\":[17.27308929748226],\"xaxis\":\"x\",\"y\":[9.855334580234182],\"yaxis\":\"y\",\"type\":\"scatter\"},{\"hovertemplate\":\"color=RE:UO-31\\u003cbr\\u003ex=%{x}\\u003cbr\\u003ey=%{y}\\u003cextra\\u003e\\u003c\\u002fextra\\u003e\",\"legendgroup\":\"RE:UO-31\",\"marker\":{\"color\":\"#FECB52\",\"symbol\":\"circle\"},\"mode\":\"markers\",\"name\":\"RE:UO-31\",\"orientation\":\"v\",\"showlegend\":true,\"x\":[20.274373455884156],\"xaxis\":\"x\",\"y\":[-62.85127338194856],\"yaxis\":\"y\",\"type\":\"scatter\"}],                        {\"template\":{\"data\":{\"histogram2dcontour\":[{\"type\":\"histogram2dcontour\",\"colorbar\":{\"outlinewidth\":0,\"ticks\":\"\"},\"colorscale\":[[0.0,\"#0d0887\"],[0.1111111111111111,\"#46039f\"],[0.2222222222222222,\"#7201a8\"],[0.3333333333333333,\"#9c179e\"],[0.4444444444444444,\"#bd3786\"],[0.5555555555555556,\"#d8576b\"],[0.6666666666666666,\"#ed7953\"],[0.7777777777777778,\"#fb9f3a\"],[0.8888888888888888,\"#fdca26\"],[1.0,\"#f0f921\"]]}],\"choropleth\":[{\"type\":\"choropleth\",\"colorbar\":{\"outlinewidth\":0,\"ticks\":\"\"}}],\"histogram2d\":[{\"type\":\"histogram2d\",\"colorbar\":{\"outlinewidth\":0,\"ticks\":\"\"},\"colorscale\":[[0.0,\"#0d0887\"],[0.1111111111111111,\"#46039f\"],[0.2222222222222222,\"#7201a8\"],[0.3333333333333333,\"#9c179e\"],[0.4444444444444444,\"#bd3786\"],[0.5555555555555556,\"#d8576b\"],[0.6666666666666666,\"#ed7953\"],[0.7777777777777778,\"#fb9f3a\"],[0.8888888888888888,\"#fdca26\"],[1.0,\"#f0f921\"]]}],\"heatmap\":[{\"type\":\"heatmap\",\"colorbar\":{\"outlinewidth\":0,\"ticks\":\"\"},\"colorscale\":[[0.0,\"#0d0887\"],[0.1111111111111111,\"#46039f\"],[0.2222222222222222,\"#7201a8\"],[0.3333333333333333,\"#9c179e\"],[0.4444444444444444,\"#bd3786\"],[0.5555555555555556,\"#d8576b\"],[0.6666666666666666,\"#ed7953\"],[0.7777777777777778,\"#fb9f3a\"],[0.8888888888888888,\"#fdca26\"],[1.0,\"#f0f921\"]]}],\"heatmapgl\":[{\"type\":\"heatmapgl\",\"colorbar\":{\"outlinewidth\":0,\"ticks\":\"\"},\"colorscale\":[[0.0,\"#0d0887\"],[0.1111111111111111,\"#46039f\"],[0.2222222222222222,\"#7201a8\"],[0.3333333333333333,\"#9c179e\"],[0.4444444444444444,\"#bd3786\"],[0.5555555555555556,\"#d8576b\"],[0.6666666666666666,\"#ed7953\"],[0.7777777777777778,\"#fb9f3a\"],[0.8888888888888888,\"#fdca26\"],[1.0,\"#f0f921\"]]}],\"contourcarpet\":[{\"type\":\"contourcarpet\",\"colorbar\":{\"outlinewidth\":0,\"ticks\":\"\"}}],\"contour\":[{\"type\":\"contour\",\"colorbar\":{\"outlinewidth\":0,\"ticks\":\"\"},\"colorscale\":[[0.0,\"#0d0887\"],[0.1111111111111111,\"#46039f\"],[0.2222222222222222,\"#7201a8\"],[0.3333333333333333,\"#9c179e\"],[0.4444444444444444,\"#bd3786\"],[0.5555555555555556,\"#d8576b\"],[0.6666666666666666,\"#ed7953\"],[0.7777777777777778,\"#fb9f3a\"],[0.8888888888888888,\"#fdca26\"],[1.0,\"#f0f921\"]]}],\"surface\":[{\"type\":\"surface\",\"colorbar\":{\"outlinewidth\":0,\"ticks\":\"\"},\"colorscale\":[[0.0,\"#0d0887\"],[0.1111111111111111,\"#46039f\"],[0.2222222222222222,\"#7201a8\"],[0.3333333333333333,\"#9c179e\"],[0.4444444444444444,\"#bd3786\"],[0.5555555555555556,\"#d8576b\"],[0.6666666666666666,\"#ed7953\"],[0.7777777777777778,\"#fb9f3a\"],[0.8888888888888888,\"#fdca26\"],[1.0,\"#f0f921\"]]}],\"mesh3d\":[{\"type\":\"mesh3d\",\"colorbar\":{\"outlinewidth\":0,\"ticks\":\"\"}}],\"scatter\":[{\"fillpattern\":{\"fillmode\":\"overlay\",\"size\":10,\"solidity\":0.2},\"type\":\"scatter\"}],\"parcoords\":[{\"type\":\"parcoords\",\"line\":{\"colorbar\":{\"outlinewidth\":0,\"ticks\":\"\"}}}],\"scatterpolargl\":[{\"type\":\"scatterpolargl\",\"marker\":{\"colorbar\":{\"outlinewidth\":0,\"ticks\":\"\"}}}],\"bar\":[{\"error_x\":{\"color\":\"#2a3f5f\"},\"error_y\":{\"color\":\"#2a3f5f\"},\"marker\":{\"line\":{\"color\":\"white\",\"width\":0.5},\"pattern\":{\"fillmode\":\"overlay\",\"size\":10,\"solidity\":0.2}},\"type\":\"bar\"}],\"scattergeo\":[{\"type\":\"scattergeo\",\"marker\":{\"colorbar\":{\"outlinewidth\":0,\"ticks\":\"\"}}}],\"scatterpolar\":[{\"type\":\"scatterpolar\",\"marker\":{\"colorbar\":{\"outlinewidth\":0,\"ticks\":\"\"}}}],\"histogram\":[{\"marker\":{\"pattern\":{\"fillmode\":\"overlay\",\"size\":10,\"solidity\":0.2}},\"type\":\"histogram\"}],\"scattergl\":[{\"type\":\"scattergl\",\"marker\":{\"colorbar\":{\"outlinewidth\":0,\"ticks\":\"\"}}}],\"scatter3d\":[{\"type\":\"scatter3d\",\"line\":{\"colorbar\":{\"outlinewidth\":0,\"ticks\":\"\"}},\"marker\":{\"colorbar\":{\"outlinewidth\":0,\"ticks\":\"\"}}}],\"scattermapbox\":[{\"type\":\"scattermapbox\",\"marker\":{\"colorbar\":{\"outlinewidth\":0,\"ticks\":\"\"}}}],\"scatterternary\":[{\"type\":\"scatterternary\",\"marker\":{\"colorbar\":{\"outlinewidth\":0,\"ticks\":\"\"}}}],\"scattercarpet\":[{\"type\":\"scattercarpet\",\"marker\":{\"colorbar\":{\"outlinewidth\":0,\"ticks\":\"\"}}}],\"carpet\":[{\"aaxis\":{\"endlinecolor\":\"#2a3f5f\",\"gridcolor\":\"#C8D4E3\",\"linecolor\":\"#C8D4E3\",\"minorgridcolor\":\"#C8D4E3\",\"startlinecolor\":\"#2a3f5f\"},\"baxis\":{\"endlinecolor\":\"#2a3f5f\",\"gridcolor\":\"#C8D4E3\",\"linecolor\":\"#C8D4E3\",\"minorgridcolor\":\"#C8D4E3\",\"startlinecolor\":\"#2a3f5f\"},\"type\":\"carpet\"}],\"table\":[{\"cells\":{\"fill\":{\"color\":\"#EBF0F8\"},\"line\":{\"color\":\"white\"}},\"header\":{\"fill\":{\"color\":\"#C8D4E3\"},\"line\":{\"color\":\"white\"}},\"type\":\"table\"}],\"barpolar\":[{\"marker\":{\"line\":{\"color\":\"white\",\"width\":0.5},\"pattern\":{\"fillmode\":\"overlay\",\"size\":10,\"solidity\":0.2}},\"type\":\"barpolar\"}],\"pie\":[{\"automargin\":true,\"type\":\"pie\"}]},\"layout\":{\"autotypenumbers\":\"strict\",\"colorway\":[\"#636efa\",\"#EF553B\",\"#00cc96\",\"#ab63fa\",\"#FFA15A\",\"#19d3f3\",\"#FF6692\",\"#B6E880\",\"#FF97FF\",\"#FECB52\"],\"font\":{\"color\":\"#2a3f5f\"},\"hovermode\":\"closest\",\"hoverlabel\":{\"align\":\"left\"},\"paper_bgcolor\":\"white\",\"plot_bgcolor\":\"white\",\"polar\":{\"bgcolor\":\"white\",\"angularaxis\":{\"gridcolor\":\"#EBF0F8\",\"linecolor\":\"#EBF0F8\",\"ticks\":\"\"},\"radialaxis\":{\"gridcolor\":\"#EBF0F8\",\"linecolor\":\"#EBF0F8\",\"ticks\":\"\"}},\"ternary\":{\"bgcolor\":\"white\",\"aaxis\":{\"gridcolor\":\"#DFE8F3\",\"linecolor\":\"#A2B1C6\",\"ticks\":\"\"},\"baxis\":{\"gridcolor\":\"#DFE8F3\",\"linecolor\":\"#A2B1C6\",\"ticks\":\"\"},\"caxis\":{\"gridcolor\":\"#DFE8F3\",\"linecolor\":\"#A2B1C6\",\"ticks\":\"\"}},\"coloraxis\":{\"colorbar\":{\"outlinewidth\":0,\"ticks\":\"\"}},\"colorscale\":{\"sequential\":[[0.0,\"#0d0887\"],[0.1111111111111111,\"#46039f\"],[0.2222222222222222,\"#7201a8\"],[0.3333333333333333,\"#9c179e\"],[0.4444444444444444,\"#bd3786\"],[0.5555555555555556,\"#d8576b\"],[0.6666666666666666,\"#ed7953\"],[0.7777777777777778,\"#fb9f3a\"],[0.8888888888888888,\"#fdca26\"],[1.0,\"#f0f921\"]],\"sequentialminus\":[[0.0,\"#0d0887\"],[0.1111111111111111,\"#46039f\"],[0.2222222222222222,\"#7201a8\"],[0.3333333333333333,\"#9c179e\"],[0.4444444444444444,\"#bd3786\"],[0.5555555555555556,\"#d8576b\"],[0.6666666666666666,\"#ed7953\"],[0.7777777777777778,\"#fb9f3a\"],[0.8888888888888888,\"#fdca26\"],[1.0,\"#f0f921\"]],\"diverging\":[[0,\"#8e0152\"],[0.1,\"#c51b7d\"],[0.2,\"#de77ae\"],[0.3,\"#f1b6da\"],[0.4,\"#fde0ef\"],[0.5,\"#f7f7f7\"],[0.6,\"#e6f5d0\"],[0.7,\"#b8e186\"],[0.8,\"#7fbc41\"],[0.9,\"#4d9221\"],[1,\"#276419\"]]},\"xaxis\":{\"gridcolor\":\"#EBF0F8\",\"linecolor\":\"#EBF0F8\",\"ticks\":\"\",\"title\":{\"standoff\":15},\"zerolinecolor\":\"#EBF0F8\",\"automargin\":true,\"zerolinewidth\":2},\"yaxis\":{\"gridcolor\":\"#EBF0F8\",\"linecolor\":\"#EBF0F8\",\"ticks\":\"\",\"title\":{\"standoff\":15},\"zerolinecolor\":\"#EBF0F8\",\"automargin\":true,\"zerolinewidth\":2},\"scene\":{\"xaxis\":{\"backgroundcolor\":\"white\",\"gridcolor\":\"#DFE8F3\",\"linecolor\":\"#EBF0F8\",\"showbackground\":true,\"ticks\":\"\",\"zerolinecolor\":\"#EBF0F8\",\"gridwidth\":2},\"yaxis\":{\"backgroundcolor\":\"white\",\"gridcolor\":\"#DFE8F3\",\"linecolor\":\"#EBF0F8\",\"showbackground\":true,\"ticks\":\"\",\"zerolinecolor\":\"#EBF0F8\",\"gridwidth\":2},\"zaxis\":{\"backgroundcolor\":\"white\",\"gridcolor\":\"#DFE8F3\",\"linecolor\":\"#EBF0F8\",\"showbackground\":true,\"ticks\":\"\",\"zerolinecolor\":\"#EBF0F8\",\"gridwidth\":2}},\"shapedefaults\":{\"line\":{\"color\":\"#2a3f5f\"}},\"annotationdefaults\":{\"arrowcolor\":\"#2a3f5f\",\"arrowhead\":0,\"arrowwidth\":1},\"geo\":{\"bgcolor\":\"white\",\"landcolor\":\"white\",\"subunitcolor\":\"#C8D4E3\",\"showland\":true,\"showlakes\":true,\"lakecolor\":\"white\"},\"title\":{\"x\":0.05},\"mapbox\":{\"style\":\"light\"}}},\"xaxis\":{\"anchor\":\"y\",\"domain\":[0.0,1.0],\"title\":{\"text\":\"Z1\"}},\"yaxis\":{\"anchor\":\"x\",\"domain\":[0.0,1.0],\"title\":{\"text\":\"Z3\"}},\"legend\":{\"title\":{\"text\":\"color\"},\"tracegroupgap\":0},\"margin\":{\"t\":60},\"width\":600},                        {\"responsive\": true}                    ).then(function(){\n",
              "                            \n",
              "var gd = document.getElementById('a90fdb92-41e3-48b4-94a0-d6393de557b3');\n",
              "var x = new MutationObserver(function (mutations, observer) {{\n",
              "        var display = window.getComputedStyle(gd).display;\n",
              "        if (!display || display === 'none') {{\n",
              "            console.log([gd, 'removed!']);\n",
              "            Plotly.purge(gd);\n",
              "            observer.disconnect();\n",
              "        }}\n",
              "}});\n",
              "\n",
              "// Listen for the removal of the full notebook cells\n",
              "var notebookContainer = gd.closest('#notebook-container');\n",
              "if (notebookContainer) {{\n",
              "    x.observe(notebookContainer, {childList: true});\n",
              "}}\n",
              "\n",
              "// Listen for the clearing of the current output cell\n",
              "var outputEl = gd.closest('.output');\n",
              "if (outputEl) {{\n",
              "    x.observe(outputEl, {childList: true});\n",
              "}}\n",
              "\n",
              "                        })                };                            </script>        </div>\n",
              "</body>\n",
              "</html>"
            ]
          },
          "metadata": {}
        }
      ]
    },
    {
      "cell_type": "markdown",
      "source": [
        "### Clustering & Linkage\n",
        "We can use Scipy to perform heirarchical clustering in the same way it's presented in ISLR."
      ],
      "metadata": {
        "id": "9N3dOxT05l-B"
      }
    },
    {
      "cell_type": "code",
      "source": [
        "from scipy.spatial.distance import pdist, squareform\n",
        "from scipy.cluster.hierarchy import linkage, dendrogram, cut_tree"
      ],
      "metadata": {
        "id": "YWvnYAQqdrjC"
      },
      "execution_count": 18,
      "outputs": []
    },
    {
      "cell_type": "code",
      "source": [
        "data_dist = pdist(intensity_data_scaled)"
      ],
      "metadata": {
        "id": "DHYH__5mdyfx"
      },
      "execution_count": 19,
      "outputs": []
    },
    {
      "cell_type": "code",
      "source": [
        "linkage_matrix = linkage(data_dist, method='complete')"
      ],
      "metadata": {
        "id": "98QILwQ-d14W"
      },
      "execution_count": 20,
      "outputs": []
    },
    {
      "cell_type": "code",
      "source": [
        "plt.figure(figsize=(10, 7))\n",
        "dendrogram(linkage_matrix, labels=intensity.index.tolist())\n",
        "plt.title(\"Complete Linkage\")\n",
        "plt.xlabel(\"Cell Line\")\n",
        "plt.show()"
      ],
      "metadata": {
        "colab": {
          "base_uri": "https://localhost:8080/",
          "height": 697
        },
        "id": "6W5Zmj1OeEBD",
        "outputId": "817d5884-e612-4b1f-ff9f-636ff738e5d6"
      },
      "execution_count": 21,
      "outputs": [
        {
          "output_type": "display_data",
          "data": {
            "text/plain": [
              "<Figure size 1000x700 with 1 Axes>"
            ],
            "image/png": "[encoded data removed]"
          },
          "metadata": {}
        }
      ]
    },
    {
      "cell_type": "markdown",
      "source": [
        "From here, we arbitrarily decide to select the top four clusters from the linkage analysis."
      ],
      "metadata": {
        "id": "lMclsp1_6bvv"
      }
    },
    {
      "cell_type": "code",
      "source": [
        "hc_clusters = cut_tree(linkage_matrix, n_clusters=4).flatten()"
      ],
      "metadata": {
        "id": "XxNkult0eJl0"
      },
      "execution_count": 22,
      "outputs": []
    },
    {
      "cell_type": "code",
      "source": [
        "import pandas as pd"
      ],
      "metadata": {
        "id": "C-bit3Z2_PV3"
      },
      "execution_count": 23,
      "outputs": []
    },
    {
      "cell_type": "code",
      "source": [
        "table = pd.crosstab(hc_clusters,\n",
        "                    intensity.index.tolist(),\n",
        "                    rownames=['clusters'],\n",
        "                    colnames=['labels'])\n"
      ],
      "metadata": {
        "id": "0RbVDJnsjgjV"
      },
      "execution_count": 24,
      "outputs": []
    },
    {
      "cell_type": "code",
      "source": [
        "table"
      ],
      "metadata": {
        "colab": {
          "base_uri": "https://localhost:8080/",
          "height": 297
        },
        "id": "mT2DXRN7jlOj",
        "outputId": "f81dd87e-c1ad-447b-b095-599b9f741c44"
      },
      "execution_count": 25,
      "outputs": [
        {
          "output_type": "execute_result",
          "data": {
            "text/plain": [
              "labels    BR:BT-549  BR:HS 578T  BR:MCF7  BR:MDA-MB-231  BR:T-47D  CNS:SF-268  \\\n",
              "clusters                                                                        \n",
              "0                 0           1        1              1         0           0   \n",
              "1                 1           0        0              0         0           0   \n",
              "2                 0           0        0              0         1           0   \n",
              "3                 0           0        0              0         0           1   \n",
              "\n",
              "labels    CNS:SF-295  CNS:SF-539  CNS:SNB-19  CNS:SNB-75  ...  PR:DU-145  \\\n",
              "clusters                                                  ...              \n",
              "0                  1           1           1           1  ...          1   \n",
              "1                  0           0           0           0  ...          0   \n",
              "2                  0           0           0           0  ...          0   \n",
              "3                  0           0           0           0  ...          0   \n",
              "\n",
              "labels    PR:PC-3  RE:786-0  RE:A498  RE:ACHN  RE:CAKI-1  RE:RXF 393  \\\n",
              "clusters                                                               \n",
              "0               0         1        1        1          1           1   \n",
              "1               0         0        0        0          0           0   \n",
              "2               0         0        0        0          0           0   \n",
              "3               1         0        0        0          0           0   \n",
              "\n",
              "labels    RE:SN12C  RE:TK-10  RE:UO-31  \n",
              "clusters                                \n",
              "0                0         1         0  \n",
              "1                0         0         0  \n",
              "2                0         0         0  \n",
              "3                1         0         1  \n",
              "\n",
              "[4 rows x 60 columns]"
            ],
            "text/html": [
              "\n",
              "\n",
              "  <div id=\"df-a06d9085-bc4e-4ce9-850c-179a47687b7c\">\n",
              "    <div class=\"colab-df-container\">\n",
              "      <div>\n",
              "<style scoped>\n",
              "    .dataframe tbody tr th:only-of-type {\n",
              "        vertical-align: middle;\n",
              "    }\n",
              "\n",
              "    .dataframe tbody tr th {\n",
              "        vertical-align: top;\n",
              "    }\n",
              "\n",
              "    .dataframe thead th {\n",
              "        text-align: right;\n",
              "    }\n",
              "</style>\n",
              "<table border=\"1\" class=\"dataframe\">\n",
              "  <thead>\n",
              "    <tr style=\"text-align: right;\">\n",
              "      <th>labels</th>\n",
              "      <th>BR:BT-549</th>\n",
              "      <th>BR:HS 578T</th>\n",
              "      <th>BR:MCF7</th>\n",
              "      <th>BR:MDA-MB-231</th>\n",
              "      <th>BR:T-47D</th>\n",
              "      <th>CNS:SF-268</th>\n",
              "      <th>CNS:SF-295</th>\n",
              "      <th>CNS:SF-539</th>\n",
              "      <th>CNS:SNB-19</th>\n",
              "      <th>CNS:SNB-75</th>\n",
              "      <th>...</th>\n",
              "      <th>PR:DU-145</th>\n",
              "      <th>PR:PC-3</th>\n",
              "      <th>RE:786-0</th>\n",
              "      <th>RE:A498</th>\n",
              "      <th>RE:ACHN</th>\n",
              "      <th>RE:CAKI-1</th>\n",
              "      <th>RE:RXF 393</th>\n",
              "      <th>RE:SN12C</th>\n",
              "      <th>RE:TK-10</th>\n",
              "      <th>RE:UO-31</th>\n",
              "    </tr>\n",
              "    <tr>\n",
              "      <th>clusters</th>\n",
              "      <th></th>\n",
              "      <th></th>\n",
              "      <th></th>\n",
              "      <th></th>\n",
              "      <th></th>\n",
              "      <th></th>\n",
              "      <th></th>\n",
              "      <th></th>\n",
              "      <th></th>\n",
              "      <th></th>\n",
              "      <th></th>\n",
              "      <th></th>\n",
              "      <th></th>\n",
              "      <th></th>\n",
              "      <th></th>\n",
              "      <th></th>\n",
              "      <th></th>\n",
              "      <th></th>\n",
              "      <th></th>\n",
              "      <th></th>\n",
              "      <th></th>\n",
              "    </tr>\n",
              "  </thead>\n",
              "  <tbody>\n",
              "    <tr>\n",
              "      <th>0</th>\n",
              "      <td>0</td>\n",
              "      <td>1</td>\n",
              "      <td>1</td>\n",
              "      <td>1</td>\n",
              "      <td>0</td>\n",
              "      <td>0</td>\n",
              "      <td>1</td>\n",
              "      <td>1</td>\n",
              "      <td>1</td>\n",
              "      <td>1</td>\n",
              "      <td>...</td>\n",
              "      <td>1</td>\n",
              "      <td>0</td>\n",
              "      <td>1</td>\n",
              "      <td>1</td>\n",
              "      <td>1</td>\n",
              "      <td>1</td>\n",
              "      <td>1</td>\n",
              "      <td>0</td>\n",
              "      <td>1</td>\n",
              "      <td>0</td>\n",
              "    </tr>\n",
              "    <tr>\n",
              "      <th>1</th>\n",
              "      <td>1</td>\n",
              "      <td>0</td>\n",
              "      <td>0</td>\n",
              "      <td>0</td>\n",
              "      <td>0</td>\n",
              "      <td>0</td>\n",
              "      <td>0</td>\n",
              "      <td>0</td>\n",
              "      <td>0</td>\n",
              "      <td>0</td>\n",
              "      <td>...</td>\n",
              "      <td>0</td>\n",
              "      <td>0</td>\n",
              "      <td>0</td>\n",
              "      <td>0</td>\n",
              "      <td>0</td>\n",
              "      <td>0</td>\n",
              "      <td>0</td>\n",
              "      <td>0</td>\n",
              "      <td>0</td>\n",
              "      <td>0</td>\n",
              "    </tr>\n",
              "    <tr>\n",
              "      <th>2</th>\n",
              "      <td>0</td>\n",
              "      <td>0</td>\n",
              "      <td>0</td>\n",
              "      <td>0</td>\n",
              "      <td>1</td>\n",
              "      <td>0</td>\n",
              "      <td>0</td>\n",
              "      <td>0</td>\n",
              "      <td>0</td>\n",
              "      <td>0</td>\n",
              "      <td>...</td>\n",
              "      <td>0</td>\n",
              "      <td>0</td>\n",
              "      <td>0</td>\n",
              "      <td>0</td>\n",
              "      <td>0</td>\n",
              "      <td>0</td>\n",
              "      <td>0</td>\n",
              "      <td>0</td>\n",
              "      <td>0</td>\n",
              "      <td>0</td>\n",
              "    </tr>\n",
              "    <tr>\n",
              "      <th>3</th>\n",
              "      <td>0</td>\n",
              "      <td>0</td>\n",
              "      <td>0</td>\n",
              "      <td>0</td>\n",
              "      <td>0</td>\n",
              "      <td>1</td>\n",
              "      <td>0</td>\n",
              "      <td>0</td>\n",
              "      <td>0</td>\n",
              "      <td>0</td>\n",
              "      <td>...</td>\n",
              "      <td>0</td>\n",
              "      <td>1</td>\n",
              "      <td>0</td>\n",
              "      <td>0</td>\n",
              "      <td>0</td>\n",
              "      <td>0</td>\n",
              "      <td>0</td>\n",
              "      <td>1</td>\n",
              "      <td>0</td>\n",
              "      <td>1</td>\n",
              "    </tr>\n",
              "  </tbody>\n",
              "</table>\n",
              "<p>4 rows × 60 columns</p>\n",
              "</div>\n",
              "      <button class=\"colab-df-convert\" onclick=\"convertToInteractive('df-a06d9085-bc4e-4ce9-850c-179a47687b7c')\"\n",
              "              title=\"Convert this dataframe to an interactive table.\"\n",
              "              style=\"display:none;\">\n",
              "\n",
              "  <svg xmlns=\"http://www.w3.org/2000/svg\" height=\"24px\"viewBox=\"0 0 24 24\"\n",
              "       width=\"24px\">\n",
              "    <path d=\"M0 0h24v24H0V0z\" fill=\"none\"/>\n",
              "    <path d=\"M18.56 5.44l.94 2.06.94-2.06 2.06-.94-2.06-.94-.94-2.06-.94 2.06-2.06.94zm-11 1L8.5 8.5l.94-2.06 2.06-.94-2.06-.94L8.5 2.5l-.94 2.06-2.06.94zm10 10l.94 2.06.94-2.06 2.06-.94-2.06-.94-.94-2.06-.94 2.06-2.06.94z\"/><path d=\"M17.41 7.96l-1.37-1.37c-.4-.4-.92-.59-1.43-.59-.52 0-1.04.2-1.43.59L10.3 9.45l-7.72 7.72c-.78.78-.78 2.05 0 2.83L4 21.41c.39.39.9.59 1.41.59.51 0 1.02-.2 1.41-.59l7.78-7.78 2.81-2.81c.8-.78.8-2.07 0-2.86zM5.41 20L4 18.59l7.72-7.72 1.47 1.35L5.41 20z\"/>\n",
              "  </svg>\n",
              "      </button>\n",
              "\n",
              "\n",
              "\n",
              "    <div id=\"df-30faa488-3bff-48c7-b3c2-46a6eebd2594\">\n",
              "      <button class=\"colab-df-quickchart\" onclick=\"quickchart('df-30faa488-3bff-48c7-b3c2-46a6eebd2594')\"\n",
              "              title=\"Suggest charts.\"\n",
              "              style=\"display:none;\">\n",
              "\n",
              "<svg xmlns=\"http://www.w3.org/2000/svg\" height=\"24px\"viewBox=\"0 0 24 24\"\n",
              "     width=\"24px\">\n",
              "    <g>\n",
              "        <path d=\"M19 3H5c-1.1 0-2 .9-2 2v14c0 1.1.9 2 2 2h14c1.1 0 2-.9 2-2V5c0-1.1-.9-2-2-2zM9 17H7v-7h2v7zm4 0h-2V7h2v10zm4 0h-2v-4h2v4z\"/>\n",
              "    </g>\n",
              "</svg>\n",
              "      </button>\n",
              "    </div>\n",
              "\n",
              "<style>\n",
              "  .colab-df-quickchart {\n",
              "    background-color: #E8F0FE;\n",
              "    border: none;\n",
              "    border-radius: 50%;\n",
              "    cursor: pointer;\n",
              "    display: none;\n",
              "    fill: #1967D2;\n",
              "    height: 32px;\n",
              "    padding: 0 0 0 0;\n",
              "    width: 32px;\n",
              "  }\n",
              "\n",
              "  .colab-df-quickchart:hover {\n",
              "    background-color: #E2EBFA;\n",
              "    box-shadow: 0px 1px 2px rgba(60, 64, 67, 0.3), 0px 1px 3px 1px rgba(60, 64, 67, 0.15);\n",
              "    fill: #174EA6;\n",
              "  }\n",
              "\n",
              "  [theme=dark] .colab-df-quickchart {\n",
              "    background-color: #3B4455;\n",
              "    fill: #D2E3FC;\n",
              "  }\n",
              "\n",
              "  [theme=dark] .colab-df-quickchart:hover {\n",
              "    background-color: #434B5C;\n",
              "    box-shadow: 0px 1px 3px 1px rgba(0, 0, 0, 0.15);\n",
              "    filter: drop-shadow(0px 1px 2px rgba(0, 0, 0, 0.3));\n",
              "    fill: #FFFFFF;\n",
              "  }\n",
              "</style>\n",
              "\n",
              "    <script>\n",
              "      async function quickchart(key) {\n",
              "        const containerElement = document.querySelector('#' + key);\n",
              "        const charts = await google.colab.kernel.invokeFunction(\n",
              "            'suggestCharts', [key], {});\n",
              "      }\n",
              "    </script>\n",
              "\n",
              "      <script>\n",
              "\n",
              "function displayQuickchartButton(domScope) {\n",
              "  let quickchartButtonEl =\n",
              "    domScope.querySelector('#df-30faa488-3bff-48c7-b3c2-46a6eebd2594 button.colab-df-quickchart');\n",
              "  quickchartButtonEl.style.display =\n",
              "    google.colab.kernel.accessAllowed ? 'block' : 'none';\n",
              "}\n",
              "\n",
              "        displayQuickchartButton(document);\n",
              "      </script>\n",
              "      <style>\n",
              "    .colab-df-container {\n",
              "      display:flex;\n",
              "      flex-wrap:wrap;\n",
              "      gap: 12px;\n",
              "    }\n",
              "\n",
              "    .colab-df-convert {\n",
              "      background-color: #E8F0FE;\n",
              "      border: none;\n",
              "      border-radius: 50%;\n",
              "      cursor: pointer;\n",
              "      display: none;\n",
              "      fill: #1967D2;\n",
              "      height: 32px;\n",
              "      padding: 0 0 0 0;\n",
              "      width: 32px;\n",
              "    }\n",
              "\n",
              "    .colab-df-convert:hover {\n",
              "      background-color: #E2EBFA;\n",
              "      box-shadow: 0px 1px 2px rgba(60, 64, 67, 0.3), 0px 1px 3px 1px rgba(60, 64, 67, 0.15);\n",
              "      fill: #174EA6;\n",
              "    }\n",
              "\n",
              "    [theme=dark] .colab-df-convert {\n",
              "      background-color: #3B4455;\n",
              "      fill: #D2E3FC;\n",
              "    }\n",
              "\n",
              "    [theme=dark] .colab-df-convert:hover {\n",
              "      background-color: #434B5C;\n",
              "      box-shadow: 0px 1px 3px 1px rgba(0, 0, 0, 0.15);\n",
              "      filter: drop-shadow(0px 1px 2px rgba(0, 0, 0, 0.3));\n",
              "      fill: #FFFFFF;\n",
              "    }\n",
              "  </style>\n",
              "\n",
              "      <script>\n",
              "        const buttonEl =\n",
              "          document.querySelector('#df-a06d9085-bc4e-4ce9-850c-179a47687b7c button.colab-df-convert');\n",
              "        buttonEl.style.display =\n",
              "          google.colab.kernel.accessAllowed ? 'block' : 'none';\n",
              "\n",
              "        async function convertToInteractive(key) {\n",
              "          const element = document.querySelector('#df-a06d9085-bc4e-4ce9-850c-179a47687b7c');\n",
              "          const dataTable =\n",
              "            await google.colab.kernel.invokeFunction('convertToInteractive',\n",
              "                                                     [key], {});\n",
              "          if (!dataTable) return;\n",
              "\n",
              "          const docLinkHtml = 'Like what you see? Visit the ' +\n",
              "            '<a target=\"_blank\" href=https://colab.research.google.com/notebooks/data_table.ipynb>data table notebook</a>'\n",
              "            + ' to learn more about interactive tables.';\n",
              "          element.innerHTML = '';\n",
              "          dataTable['output_type'] = 'display_data';\n",
              "          await google.colab.output.renderOutput(dataTable, element);\n",
              "          const docLink = document.createElement('div');\n",
              "          docLink.innerHTML = docLinkHtml;\n",
              "          element.appendChild(docLink);\n",
              "        }\n",
              "      </script>\n",
              "    </div>\n",
              "  </div>\n"
            ]
          },
          "metadata": {},
          "execution_count": 25
        }
      ]
    },
    {
      "cell_type": "markdown",
      "source": [
        "## Filter The Dataset\n",
        "Now that we've clusterd the data by cell line, we can go back and filter our original dataset to just our cluster of interest. Here we select the second (index `1`) and third (index `2`) cluster  for simplicity, since we know that they contain two and three cell lines respectively."
      ],
      "metadata": {
        "id": "aghmDKlz7MPw"
      }
    },
    {
      "cell_type": "code",
      "source": [
        "def get_columns_in_cluster(cluster_idx):\n",
        "  row_values = table.loc[cluster_idx]\n",
        "  columns_with_value_1 = row_values[row_values == 1]\n",
        "  column_names = columns_with_value_1.index.tolist()\n",
        "  return column_names"
      ],
      "metadata": {
        "id": "oVP0j05JjvWb"
      },
      "execution_count": 26,
      "outputs": []
    },
    {
      "cell_type": "code",
      "source": [
        "print(len(get_columns_in_cluster(1)))\n",
        "print(len(get_columns_in_cluster(2)))"
      ],
      "metadata": {
        "colab": {
          "base_uri": "https://localhost:8080/"
        },
        "id": "TRG3Lh0Glzgx",
        "outputId": "65c06ef7-6562-4cd4-fa9d-a3a370cb7b08"
      },
      "execution_count": 27,
      "outputs": [
        {
          "output_type": "stream",
          "name": "stdout",
          "text": [
            "2\n",
            "3\n"
          ]
        }
      ]
    },
    {
      "cell_type": "markdown",
      "source": [
        "### Filter to Columns of Interest\n",
        "Using the cell line labels from our earlier clustering, we can filter the intensity values to include just the cell lines of intererst (columns)."
      ],
      "metadata": {
        "id": "ATZy_m7g8QVF"
      }
    },
    {
      "cell_type": "code",
      "source": [
        "group_1 = ds.intensity.loc[:, get_columns_in_cluster(1)]\n",
        "group_2 = ds.intensity.loc[:, get_columns_in_cluster(2)]"
      ],
      "metadata": {
        "id": "TwVlrCb7kMU4"
      },
      "execution_count": 28,
      "outputs": []
    },
    {
      "cell_type": "markdown",
      "source": [
        "### Filter to Rows of Interest\n",
        "We can also filter out rows (genes) that don't meet an intensity threshold, or some other criteria. Here we remove any row where each cell line doesn't have an intensity of at least 0.3."
      ],
      "metadata": {
        "id": "XbH7Zg9y8fvy"
      }
    },
    {
      "cell_type": "code",
      "source": [
        "min_intensity = 0.3\n",
        "interest_genes_1 = group_1[group_1.gt(min_intensity).all(axis=1)]\n",
        "interest_genes_2 = group_2[group_2.gt(min_intensity).all(axis=1)]"
      ],
      "metadata": {
        "id": "Ygt3FybYmTzF"
      },
      "execution_count": 29,
      "outputs": []
    },
    {
      "cell_type": "markdown",
      "source": [
        "### Label The Gene Identifiers\n",
        "We know that we would like to use Entrez IDs as out gene identifiers, so we add those as labels to our rows.\n",
        "\n",
        "We could also use the gene symbols here if that were our preference, we would just replace `ds.entrez_ids` with `ds.gene_names`."
      ],
      "metadata": {
        "id": "ahMKLsN-8-d4"
      }
    },
    {
      "cell_type": "code",
      "source": [
        "interest_genes_1.index = ds.entrez_ids[interest_genes_1.index]\n",
        "interest_genes_2.index = ds.entrez_ids[interest_genes_2.index]"
      ],
      "metadata": {
        "id": "YKRVFqvAmrM7"
      },
      "execution_count": 30,
      "outputs": []
    },
    {
      "cell_type": "code",
      "source": [
        "interest_genes_1.index"
      ],
      "metadata": {
        "colab": {
          "base_uri": "https://localhost:8080/"
        },
        "id": "kgoFe2Kgm0JI",
        "outputId": "41182c80-62b7-48af-cc48-b7ab7eb4fb58"
      },
      "execution_count": 31,
      "outputs": [
        {
          "output_type": "execute_result",
          "data": {
            "text/plain": [
              "Int64Index([     3158,     83998,    343505,     11085,      4853,    653820,\n",
              "               337875,      2210,    647121, 100874392,\n",
              "            ...\n",
              "                26953,     90865,     89882,    115426,      2731,         0,\n",
              "                    0,         0,         0,         0],\n",
              "           dtype='int64', name='Entrez gene id e', length=268)"
            ]
          },
          "metadata": {},
          "execution_count": 31
        }
      ]
    },
    {
      "cell_type": "markdown",
      "source": [
        "### Remove Rows Without Identifiers\n",
        "Some of the NCI-60 rows don't have identifiers, which are required for use with Geneweaver, so we remove these now."
      ],
      "metadata": {
        "id": "6RZfp-Rr9KNb"
      }
    },
    {
      "cell_type": "code",
      "source": [
        "interest_genes_1"
      ],
      "metadata": {
        "colab": {
          "base_uri": "https://localhost:8080/",
          "height": 455
        },
        "id": "MVTFJ9Csnsyc",
        "outputId": "4b3226d0-b4ff-4757-dd44-511fdfe09634"
      },
      "execution_count": 32,
      "outputs": [
        {
          "output_type": "execute_result",
          "data": {
            "text/plain": [
              "                  BR:BT-549  OV:OVCAR-4\n",
              "Entrez gene id e                       \n",
              "3158                  0.323       0.370\n",
              "83998                 0.323       0.370\n",
              "343505                0.323       0.370\n",
              "11085                 0.323       0.370\n",
              "4853                  0.323       0.370\n",
              "...                     ...         ...\n",
              "0                     0.323       0.370\n",
              "0                     0.617       0.550\n",
              "0                     0.626       0.565\n",
              "0                     0.626       0.565\n",
              "0                     0.681       0.681\n",
              "\n",
              "[268 rows x 2 columns]"
            ],
            "text/html": [
              "\n",
              "\n",
              "  <div id=\"df-c5c1cd41-6fbe-4178-82ba-ec5062c20ff6\">\n",
              "    <div class=\"colab-df-container\">\n",
              "      <div>\n",
              "<style scoped>\n",
              "    .dataframe tbody tr th:only-of-type {\n",
              "        vertical-align: middle;\n",
              "    }\n",
              "\n",
              "    .dataframe tbody tr th {\n",
              "        vertical-align: top;\n",
              "    }\n",
              "\n",
              "    .dataframe thead th {\n",
              "        text-align: right;\n",
              "    }\n",
              "</style>\n",
              "<table border=\"1\" class=\"dataframe\">\n",
              "  <thead>\n",
              "    <tr style=\"text-align: right;\">\n",
              "      <th></th>\n",
              "      <th>BR:BT-549</th>\n",
              "      <th>OV:OVCAR-4</th>\n",
              "    </tr>\n",
              "    <tr>\n",
              "      <th>Entrez gene id e</th>\n",
              "      <th></th>\n",
              "      <th></th>\n",
              "    </tr>\n",
              "  </thead>\n",
              "  <tbody>\n",
              "    <tr>\n",
              "      <th>3158</th>\n",
              "      <td>0.323</td>\n",
              "      <td>0.370</td>\n",
              "    </tr>\n",
              "    <tr>\n",
              "      <th>83998</th>\n",
              "      <td>0.323</td>\n",
              "      <td>0.370</td>\n",
              "    </tr>\n",
              "    <tr>\n",
              "      <th>343505</th>\n",
              "      <td>0.323</td>\n",
              "      <td>0.370</td>\n",
              "    </tr>\n",
              "    <tr>\n",
              "      <th>11085</th>\n",
              "      <td>0.323</td>\n",
              "      <td>0.370</td>\n",
              "    </tr>\n",
              "    <tr>\n",
              "      <th>4853</th>\n",
              "      <td>0.323</td>\n",
              "      <td>0.370</td>\n",
              "    </tr>\n",
              "    <tr>\n",
              "      <th>...</th>\n",
              "      <td>...</td>\n",
              "      <td>...</td>\n",
              "    </tr>\n",
              "    <tr>\n",
              "      <th>0</th>\n",
              "      <td>0.323</td>\n",
              "      <td>0.370</td>\n",
              "    </tr>\n",
              "    <tr>\n",
              "      <th>0</th>\n",
              "      <td>0.617</td>\n",
              "      <td>0.550</td>\n",
              "    </tr>\n",
              "    <tr>\n",
              "      <th>0</th>\n",
              "      <td>0.626</td>\n",
              "      <td>0.565</td>\n",
              "    </tr>\n",
              "    <tr>\n",
              "      <th>0</th>\n",
              "      <td>0.626</td>\n",
              "      <td>0.565</td>\n",
              "    </tr>\n",
              "    <tr>\n",
              "      <th>0</th>\n",
              "      <td>0.681</td>\n",
              "      <td>0.681</td>\n",
              "    </tr>\n",
              "  </tbody>\n",
              "</table>\n",
              "<p>268 rows × 2 columns</p>\n",
              "</div>\n",
              "      <button class=\"colab-df-convert\" onclick=\"convertToInteractive('df-c5c1cd41-6fbe-4178-82ba-ec5062c20ff6')\"\n",
              "              title=\"Convert this dataframe to an interactive table.\"\n",
              "              style=\"display:none;\">\n",
              "\n",
              "  <svg xmlns=\"http://www.w3.org/2000/svg\" height=\"24px\"viewBox=\"0 0 24 24\"\n",
              "       width=\"24px\">\n",
              "    <path d=\"M0 0h24v24H0V0z\" fill=\"none\"/>\n",
              "    <path d=\"M18.56 5.44l.94 2.06.94-2.06 2.06-.94-2.06-.94-.94-2.06-.94 2.06-2.06.94zm-11 1L8.5 8.5l.94-2.06 2.06-.94-2.06-.94L8.5 2.5l-.94 2.06-2.06.94zm10 10l.94 2.06.94-2.06 2.06-.94-2.06-.94-.94-2.06-.94 2.06-2.06.94z\"/><path d=\"M17.41 7.96l-1.37-1.37c-.4-.4-.92-.59-1.43-.59-.52 0-1.04.2-1.43.59L10.3 9.45l-7.72 7.72c-.78.78-.78 2.05 0 2.83L4 21.41c.39.39.9.59 1.41.59.51 0 1.02-.2 1.41-.59l7.78-7.78 2.81-2.81c.8-.78.8-2.07 0-2.86zM5.41 20L4 18.59l7.72-7.72 1.47 1.35L5.41 20z\"/>\n",
              "  </svg>\n",
              "      </button>\n",
              "\n",
              "\n",
              "\n",
              "    <div id=\"df-f0207838-d1e0-49ff-825c-97e66f7523ad\">\n",
              "      <button class=\"colab-df-quickchart\" onclick=\"quickchart('df-f0207838-d1e0-49ff-825c-97e66f7523ad')\"\n",
              "              title=\"Suggest charts.\"\n",
              "              style=\"display:none;\">\n",
              "\n",
              "<svg xmlns=\"http://www.w3.org/2000/svg\" height=\"24px\"viewBox=\"0 0 24 24\"\n",
              "     width=\"24px\">\n",
              "    <g>\n",
              "        <path d=\"M19 3H5c-1.1 0-2 .9-2 2v14c0 1.1.9 2 2 2h14c1.1 0 2-.9 2-2V5c0-1.1-.9-2-2-2zM9 17H7v-7h2v7zm4 0h-2V7h2v10zm4 0h-2v-4h2v4z\"/>\n",
              "    </g>\n",
              "</svg>\n",
              "      </button>\n",
              "    </div>\n",
              "\n",
              "<style>\n",
              "  .colab-df-quickchart {\n",
              "    background-color: #E8F0FE;\n",
              "    border: none;\n",
              "    border-radius: 50%;\n",
              "    cursor: pointer;\n",
              "    display: none;\n",
              "    fill: #1967D2;\n",
              "    height: 32px;\n",
              "    padding: 0 0 0 0;\n",
              "    width: 32px;\n",
              "  }\n",
              "\n",
              "  .colab-df-quickchart:hover {\n",
              "    background-color: #E2EBFA;\n",
              "    box-shadow: 0px 1px 2px rgba(60, 64, 67, 0.3), 0px 1px 3px 1px rgba(60, 64, 67, 0.15);\n",
              "    fill: #174EA6;\n",
              "  }\n",
              "\n",
              "  [theme=dark] .colab-df-quickchart {\n",
              "    background-color: #3B4455;\n",
              "    fill: #D2E3FC;\n",
              "  }\n",
              "\n",
              "  [theme=dark] .colab-df-quickchart:hover {\n",
              "    background-color: #434B5C;\n",
              "    box-shadow: 0px 1px 3px 1px rgba(0, 0, 0, 0.15);\n",
              "    filter: drop-shadow(0px 1px 2px rgba(0, 0, 0, 0.3));\n",
              "    fill: #FFFFFF;\n",
              "  }\n",
              "</style>\n",
              "\n",
              "    <script>\n",
              "      async function quickchart(key) {\n",
              "        const containerElement = document.querySelector('#' + key);\n",
              "        const charts = await google.colab.kernel.invokeFunction(\n",
              "            'suggestCharts', [key], {});\n",
              "      }\n",
              "    </script>\n",
              "\n",
              "      <script>\n",
              "\n",
              "function displayQuickchartButton(domScope) {\n",
              "  let quickchartButtonEl =\n",
              "    domScope.querySelector('#df-f0207838-d1e0-49ff-825c-97e66f7523ad button.colab-df-quickchart');\n",
              "  quickchartButtonEl.style.display =\n",
              "    google.colab.kernel.accessAllowed ? 'block' : 'none';\n",
              "}\n",
              "\n",
              "        displayQuickchartButton(document);\n",
              "      </script>\n",
              "      <style>\n",
              "    .colab-df-container {\n",
              "      display:flex;\n",
              "      flex-wrap:wrap;\n",
              "      gap: 12px;\n",
              "    }\n",
              "\n",
              "    .colab-df-convert {\n",
              "      background-color: #E8F0FE;\n",
              "      border: none;\n",
              "      border-radius: 50%;\n",
              "      cursor: pointer;\n",
              "      display: none;\n",
              "      fill: #1967D2;\n",
              "      height: 32px;\n",
              "      padding: 0 0 0 0;\n",
              "      width: 32px;\n",
              "    }\n",
              "\n",
              "    .colab-df-convert:hover {\n",
              "      background-color: #E2EBFA;\n",
              "      box-shadow: 0px 1px 2px rgba(60, 64, 67, 0.3), 0px 1px 3px 1px rgba(60, 64, 67, 0.15);\n",
              "      fill: #174EA6;\n",
              "    }\n",
              "\n",
              "    [theme=dark] .colab-df-convert {\n",
              "      background-color: #3B4455;\n",
              "      fill: #D2E3FC;\n",
              "    }\n",
              "\n",
              "    [theme=dark] .colab-df-convert:hover {\n",
              "      background-color: #434B5C;\n",
              "      box-shadow: 0px 1px 3px 1px rgba(0, 0, 0, 0.15);\n",
              "      filter: drop-shadow(0px 1px 2px rgba(0, 0, 0, 0.3));\n",
              "      fill: #FFFFFF;\n",
              "    }\n",
              "  </style>\n",
              "\n",
              "      <script>\n",
              "        const buttonEl =\n",
              "          document.querySelector('#df-c5c1cd41-6fbe-4178-82ba-ec5062c20ff6 button.colab-df-convert');\n",
              "        buttonEl.style.display =\n",
              "          google.colab.kernel.accessAllowed ? 'block' : 'none';\n",
              "\n",
              "        async function convertToInteractive(key) {\n",
              "          const element = document.querySelector('#df-c5c1cd41-6fbe-4178-82ba-ec5062c20ff6');\n",
              "          const dataTable =\n",
              "            await google.colab.kernel.invokeFunction('convertToInteractive',\n",
              "                                                     [key], {});\n",
              "          if (!dataTable) return;\n",
              "\n",
              "          const docLinkHtml = 'Like what you see? Visit the ' +\n",
              "            '<a target=\"_blank\" href=https://colab.research.google.com/notebooks/data_table.ipynb>data table notebook</a>'\n",
              "            + ' to learn more about interactive tables.';\n",
              "          element.innerHTML = '';\n",
              "          dataTable['output_type'] = 'display_data';\n",
              "          await google.colab.output.renderOutput(dataTable, element);\n",
              "          const docLink = document.createElement('div');\n",
              "          docLink.innerHTML = docLinkHtml;\n",
              "          element.appendChild(docLink);\n",
              "        }\n",
              "      </script>\n",
              "    </div>\n",
              "  </div>\n"
            ]
          },
          "metadata": {},
          "execution_count": 32
        }
      ]
    },
    {
      "cell_type": "code",
      "source": [
        "# Remove Rows Without a Gene Identifier\n",
        "interest_genes_1 = interest_genes_1.drop(0, errors=\"ignore\")\n",
        "interest_genes_2 = interest_genes_2.drop(0, errors=\"ignore\")"
      ],
      "metadata": {
        "id": "AubbFf77r_3a"
      },
      "execution_count": 33,
      "outputs": []
    },
    {
      "cell_type": "code",
      "source": [
        "interest_genes_1"
      ],
      "metadata": {
        "colab": {
          "base_uri": "https://localhost:8080/",
          "height": 455
        },
        "id": "K7WDNkuLsFlA",
        "outputId": "b2bd099e-f8fb-4df8-d853-16fc86632616"
      },
      "execution_count": 34,
      "outputs": [
        {
          "output_type": "execute_result",
          "data": {
            "text/plain": [
              "                  BR:BT-549  OV:OVCAR-4\n",
              "Entrez gene id e                       \n",
              "3158                  0.323       0.370\n",
              "83998                 0.323       0.370\n",
              "343505                0.323       0.370\n",
              "11085                 0.323       0.370\n",
              "4853                  0.323       0.370\n",
              "...                     ...         ...\n",
              "26953                 0.432       0.308\n",
              "90865                 0.432       0.308\n",
              "89882                 0.432       0.308\n",
              "115426                0.432       0.308\n",
              "2731                  0.432       0.308\n",
              "\n",
              "[263 rows x 2 columns]"
            ],
            "text/html": [
              "\n",
              "\n",
              "  <div id=\"df-6e803d05-b6d1-4f2b-8017-68901c4c1031\">\n",
              "    <div class=\"colab-df-container\">\n",
              "      <div>\n",
              "<style scoped>\n",
              "    .dataframe tbody tr th:only-of-type {\n",
              "        vertical-align: middle;\n",
              "    }\n",
              "\n",
              "    .dataframe tbody tr th {\n",
              "        vertical-align: top;\n",
              "    }\n",
              "\n",
              "    .dataframe thead th {\n",
              "        text-align: right;\n",
              "    }\n",
              "</style>\n",
              "<table border=\"1\" class=\"dataframe\">\n",
              "  <thead>\n",
              "    <tr style=\"text-align: right;\">\n",
              "      <th></th>\n",
              "      <th>BR:BT-549</th>\n",
              "      <th>OV:OVCAR-4</th>\n",
              "    </tr>\n",
              "    <tr>\n",
              "      <th>Entrez gene id e</th>\n",
              "      <th></th>\n",
              "      <th></th>\n",
              "    </tr>\n",
              "  </thead>\n",
              "  <tbody>\n",
              "    <tr>\n",
              "      <th>3158</th>\n",
              "      <td>0.323</td>\n",
              "      <td>0.370</td>\n",
              "    </tr>\n",
              "    <tr>\n",
              "      <th>83998</th>\n",
              "      <td>0.323</td>\n",
              "      <td>0.370</td>\n",
              "    </tr>\n",
              "    <tr>\n",
              "      <th>343505</th>\n",
              "      <td>0.323</td>\n",
              "      <td>0.370</td>\n",
              "    </tr>\n",
              "    <tr>\n",
              "      <th>11085</th>\n",
              "      <td>0.323</td>\n",
              "      <td>0.370</td>\n",
              "    </tr>\n",
              "    <tr>\n",
              "      <th>4853</th>\n",
              "      <td>0.323</td>\n",
              "      <td>0.370</td>\n",
              "    </tr>\n",
              "    <tr>\n",
              "      <th>...</th>\n",
              "      <td>...</td>\n",
              "      <td>...</td>\n",
              "    </tr>\n",
              "    <tr>\n",
              "      <th>26953</th>\n",
              "      <td>0.432</td>\n",
              "      <td>0.308</td>\n",
              "    </tr>\n",
              "    <tr>\n",
              "      <th>90865</th>\n",
              "      <td>0.432</td>\n",
              "      <td>0.308</td>\n",
              "    </tr>\n",
              "    <tr>\n",
              "      <th>89882</th>\n",
              "      <td>0.432</td>\n",
              "      <td>0.308</td>\n",
              "    </tr>\n",
              "    <tr>\n",
              "      <th>115426</th>\n",
              "      <td>0.432</td>\n",
              "      <td>0.308</td>\n",
              "    </tr>\n",
              "    <tr>\n",
              "      <th>2731</th>\n",
              "      <td>0.432</td>\n",
              "      <td>0.308</td>\n",
              "    </tr>\n",
              "  </tbody>\n",
              "</table>\n",
              "<p>263 rows × 2 columns</p>\n",
              "</div>\n",
              "      <button class=\"colab-df-convert\" onclick=\"convertToInteractive('df-6e803d05-b6d1-4f2b-8017-68901c4c1031')\"\n",
              "              title=\"Convert this dataframe to an interactive table.\"\n",
              "              style=\"display:none;\">\n",
              "\n",
              "  <svg xmlns=\"http://www.w3.org/2000/svg\" height=\"24px\"viewBox=\"0 0 24 24\"\n",
              "       width=\"24px\">\n",
              "    <path d=\"M0 0h24v24H0V0z\" fill=\"none\"/>\n",
              "    <path d=\"M18.56 5.44l.94 2.06.94-2.06 2.06-.94-2.06-.94-.94-2.06-.94 2.06-2.06.94zm-11 1L8.5 8.5l.94-2.06 2.06-.94-2.06-.94L8.5 2.5l-.94 2.06-2.06.94zm10 10l.94 2.06.94-2.06 2.06-.94-2.06-.94-.94-2.06-.94 2.06-2.06.94z\"/><path d=\"M17.41 7.96l-1.37-1.37c-.4-.4-.92-.59-1.43-.59-.52 0-1.04.2-1.43.59L10.3 9.45l-7.72 7.72c-.78.78-.78 2.05 0 2.83L4 21.41c.39.39.9.59 1.41.59.51 0 1.02-.2 1.41-.59l7.78-7.78 2.81-2.81c.8-.78.8-2.07 0-2.86zM5.41 20L4 18.59l7.72-7.72 1.47 1.35L5.41 20z\"/>\n",
              "  </svg>\n",
              "      </button>\n",
              "\n",
              "\n",
              "\n",
              "    <div id=\"df-0b5aeea4-d24b-461d-af9d-946e3461960e\">\n",
              "      <button class=\"colab-df-quickchart\" onclick=\"quickchart('df-0b5aeea4-d24b-461d-af9d-946e3461960e')\"\n",
              "              title=\"Suggest charts.\"\n",
              "              style=\"display:none;\">\n",
              "\n",
              "<svg xmlns=\"http://www.w3.org/2000/svg\" height=\"24px\"viewBox=\"0 0 24 24\"\n",
              "     width=\"24px\">\n",
              "    <g>\n",
              "        <path d=\"M19 3H5c-1.1 0-2 .9-2 2v14c0 1.1.9 2 2 2h14c1.1 0 2-.9 2-2V5c0-1.1-.9-2-2-2zM9 17H7v-7h2v7zm4 0h-2V7h2v10zm4 0h-2v-4h2v4z\"/>\n",
              "    </g>\n",
              "</svg>\n",
              "      </button>\n",
              "    </div>\n",
              "\n",
              "<style>\n",
              "  .colab-df-quickchart {\n",
              "    background-color: #E8F0FE;\n",
              "    border: none;\n",
              "    border-radius: 50%;\n",
              "    cursor: pointer;\n",
              "    display: none;\n",
              "    fill: #1967D2;\n",
              "    height: 32px;\n",
              "    padding: 0 0 0 0;\n",
              "    width: 32px;\n",
              "  }\n",
              "\n",
              "  .colab-df-quickchart:hover {\n",
              "    background-color: #E2EBFA;\n",
              "    box-shadow: 0px 1px 2px rgba(60, 64, 67, 0.3), 0px 1px 3px 1px rgba(60, 64, 67, 0.15);\n",
              "    fill: #174EA6;\n",
              "  }\n",
              "\n",
              "  [theme=dark] .colab-df-quickchart {\n",
              "    background-color: #3B4455;\n",
              "    fill: #D2E3FC;\n",
              "  }\n",
              "\n",
              "  [theme=dark] .colab-df-quickchart:hover {\n",
              "    background-color: #434B5C;\n",
              "    box-shadow: 0px 1px 3px 1px rgba(0, 0, 0, 0.15);\n",
              "    filter: drop-shadow(0px 1px 2px rgba(0, 0, 0, 0.3));\n",
              "    fill: #FFFFFF;\n",
              "  }\n",
              "</style>\n",
              "\n",
              "    <script>\n",
              "      async function quickchart(key) {\n",
              "        const containerElement = document.querySelector('#' + key);\n",
              "        const charts = await google.colab.kernel.invokeFunction(\n",
              "            'suggestCharts', [key], {});\n",
              "      }\n",
              "    </script>\n",
              "\n",
              "      <script>\n",
              "\n",
              "function displayQuickchartButton(domScope) {\n",
              "  let quickchartButtonEl =\n",
              "    domScope.querySelector('#df-0b5aeea4-d24b-461d-af9d-946e3461960e button.colab-df-quickchart');\n",
              "  quickchartButtonEl.style.display =\n",
              "    google.colab.kernel.accessAllowed ? 'block' : 'none';\n",
              "}\n",
              "\n",
              "        displayQuickchartButton(document);\n",
              "      </script>\n",
              "      <style>\n",
              "    .colab-df-container {\n",
              "      display:flex;\n",
              "      flex-wrap:wrap;\n",
              "      gap: 12px;\n",
              "    }\n",
              "\n",
              "    .colab-df-convert {\n",
              "      background-color: #E8F0FE;\n",
              "      border: none;\n",
              "      border-radius: 50%;\n",
              "      cursor: pointer;\n",
              "      display: none;\n",
              "      fill: #1967D2;\n",
              "      height: 32px;\n",
              "      padding: 0 0 0 0;\n",
              "      width: 32px;\n",
              "    }\n",
              "\n",
              "    .colab-df-convert:hover {\n",
              "      background-color: #E2EBFA;\n",
              "      box-shadow: 0px 1px 2px rgba(60, 64, 67, 0.3), 0px 1px 3px 1px rgba(60, 64, 67, 0.15);\n",
              "      fill: #174EA6;\n",
              "    }\n",
              "\n",
              "    [theme=dark] .colab-df-convert {\n",
              "      background-color: #3B4455;\n",
              "      fill: #D2E3FC;\n",
              "    }\n",
              "\n",
              "    [theme=dark] .colab-df-convert:hover {\n",
              "      background-color: #434B5C;\n",
              "      box-shadow: 0px 1px 3px 1px rgba(0, 0, 0, 0.15);\n",
              "      filter: drop-shadow(0px 1px 2px rgba(0, 0, 0, 0.3));\n",
              "      fill: #FFFFFF;\n",
              "    }\n",
              "  </style>\n",
              "\n",
              "      <script>\n",
              "        const buttonEl =\n",
              "          document.querySelector('#df-6e803d05-b6d1-4f2b-8017-68901c4c1031 button.colab-df-convert');\n",
              "        buttonEl.style.display =\n",
              "          google.colab.kernel.accessAllowed ? 'block' : 'none';\n",
              "\n",
              "        async function convertToInteractive(key) {\n",
              "          const element = document.querySelector('#df-6e803d05-b6d1-4f2b-8017-68901c4c1031');\n",
              "          const dataTable =\n",
              "            await google.colab.kernel.invokeFunction('convertToInteractive',\n",
              "                                                     [key], {});\n",
              "          if (!dataTable) return;\n",
              "\n",
              "          const docLinkHtml = 'Like what you see? Visit the ' +\n",
              "            '<a target=\"_blank\" href=https://colab.research.google.com/notebooks/data_table.ipynb>data table notebook</a>'\n",
              "            + ' to learn more about interactive tables.';\n",
              "          element.innerHTML = '';\n",
              "          dataTable['output_type'] = 'display_data';\n",
              "          await google.colab.output.renderOutput(dataTable, element);\n",
              "          const docLink = document.createElement('div');\n",
              "          docLink.innerHTML = docLinkHtml;\n",
              "          element.appendChild(docLink);\n",
              "        }\n",
              "      </script>\n",
              "    </div>\n",
              "  </div>\n"
            ]
          },
          "metadata": {},
          "execution_count": 34
        }
      ]
    },
    {
      "cell_type": "markdown",
      "source": [
        "## Run a Genweaver Tool Locally\n",
        "Geneweaver provides a number of analysis tools that can be run through the website, but you may want to use one to preprocess you dataset before uploading it.\n",
        "\n",
        "We will use Geneweaver's Boolean Algebra tool to find an interesting intersection between two clusters.\n",
        "\n",
        "First, let's install the Geneweaver Boolean Algebra tool."
      ],
      "metadata": {
        "id": "ejVobD9qHECy"
      }
    },
    {
      "cell_type": "code",
      "source": [
        "!pip install geneweaver-boolean-algebra"
      ],
      "metadata": {
        "id": "842_xBWhHt7Q"
      },
      "execution_count": null,
      "outputs": []
    },
    {
      "cell_type": "code",
      "source": [
        "from geneweaver.tools.boolean_algebra import (\n",
        "    BooleanAlgebra,\n",
        "    BooleanAlgebraType,\n",
        "    BooleanAlgebraInput\n",
        ")\n",
        "from geneweaver.core.schema.gene import GeneValue\n",
        "from geneweaver.core import parse\n",
        "boolean = BooleanAlgebra()"
      ],
      "metadata": {
        "id": "g9ff0oJ6H97y"
      },
      "execution_count": 36,
      "outputs": []
    },
    {
      "cell_type": "code",
      "source": [
        "gene_values_1 = parse.iterable.to_gene_value_list_binary(interest_genes_1.index)\n",
        "gene_values_2 = parse.iterable.to_gene_value_list_binary(interest_genes_2.index)"
      ],
      "metadata": {
        "id": "jFZEBqLlmYjr"
      },
      "execution_count": 37,
      "outputs": []
    },
    {
      "cell_type": "code",
      "source": [
        "result = boolean.run(BooleanAlgebraInput(\n",
        "    type=BooleanAlgebraType.INTERSECTION,\n",
        "    input_genesets=[gene_values_1, gene_values_2]\n",
        "))"
      ],
      "metadata": {
        "id": "B7R5KfpQKWmg"
      },
      "execution_count": 38,
      "outputs": []
    },
    {
      "cell_type": "code",
      "source": [
        "geneset_values = list(result.result[(0,1)])"
      ],
      "metadata": {
        "id": "G7Kd_E5xPtCo"
      },
      "execution_count": 39,
      "outputs": []
    },
    {
      "cell_type": "markdown",
      "source": [
        "## Upload Data to Geneweaver\n",
        "Now that we've identified genes of interest, we can upload them to Geneweaver. This will allow us to explore how our data relates to data in both in the Geneweaver application and in related resources, will allow us to use Geneweaver's integrated toolsets, and provides us an easy way to save, track and organize our data for later use.\n",
        "\n",
        "First, let's login so that the application can keep track of our work for us. The `geneweaver-client` package can help us with this process, even if we've don't have an account yet."
      ],
      "metadata": {
        "id": "w-dnkcLIFfJ-"
      }
    },
    {
      "cell_type": "code",
      "source": [
        "# Import the login and acces token functions.\n",
        "from geneweaver.client.auth import login, get_access_token"
      ],
      "metadata": {
        "id": "THJt97jPocUB"
      },
      "execution_count": 40,
      "outputs": []
    },
    {
      "cell_type": "code",
      "source": [
        "# Run the login function and follow the link in the output.\n",
        "# Confirm that the code matches the output here,\n",
        "# then sign-up or login.\n",
        "login()\n",
        "# Wait for the \"Authenticated!\" message, then continue."
      ],
      "metadata": {
        "colab": {
          "base_uri": "https://localhost:8080/"
        },
        "id": "o9_2dmMIrb_K",
        "outputId": "07f4b3cc-c195-404c-a9b1-d4b0cd2d2d3e"
      },
      "execution_count": 41,
      "outputs": [
        {
          "output_type": "stream",
          "name": "stdout",
          "text": [
            "1. On your computer or mobile device navigate to:  https://geneweaver.auth0.com/activate?user_code=SWZW-VPNB\n",
            "2. Enter the following code:  SWZW-VPNB\n",
            "Authenticated!\n",
            "- Id Token: eyJhbGciOi...\n"
          ]
        }
      ]
    },
    {
      "cell_type": "code",
      "source": [
        "from geneweaver.core.schema.gene import GeneValue\n",
        "from geneweaver.core.schema.geneset import GenesetUpload\n",
        "from geneweaver.core.enum import GenesetScoreType, GenesetAccess"
      ],
      "metadata": {
        "id": "UnOjQ-ShCeZE"
      },
      "execution_count": 42,
      "outputs": []
    },
    {
      "cell_type": "code",
      "source": [
        "# Create a GenesetUpload object\n",
        "geneset = GenesetUpload(\n",
        "    name=\"My NCI-60 Dataset\",\n",
        "    label=\"\",\n",
        "    score_type=GenesetScoreType.BINARY,\n",
        "    description=\"A dataset I created from the NCI-60 Cancer Data.\",\n",
        "    pubmed_id=None,\n",
        "    access=GenesetAccess.PRIVATE,\n",
        "    species='human',\n",
        "    gene_identifier='entrez',\n",
        "    gene_list=geneset_values\n",
        ")"
      ],
      "metadata": {
        "id": "CSMU1IEkECIm"
      },
      "execution_count": 43,
      "outputs": []
    },
    {
      "cell_type": "code",
      "source": [
        "from geneweaver.client.api.v3 import genesets as geneset_api"
      ],
      "metadata": {
        "id": "4Y83EvtfGl5w"
      },
      "execution_count": 44,
      "outputs": []
    },
    {
      "cell_type": "code",
      "source": [
        "# After logging in, the get_access_token() function will retrieve an\n",
        "# API token for you to use\n",
        "#\n",
        "# geneset_id = geneset_api.upload(get_access_token(), geneset)\n",
        "#\n",
        "# Except this API is currently under construction, so we'll need to use\n",
        "# the web interface"
      ],
      "metadata": {
        "id": "coFPHI13GtF3"
      },
      "execution_count": 45,
      "outputs": []
    },
    {
      "cell_type": "markdown",
      "source": [
        "### Manually Upload the Geneset\n",
        "To manually upload the geneset, we will render the values we have into a string that can be entered on Geneweaver's [Uplaod Geneset page](https://geneweaver.org/uploadgeneset)."
      ],
      "metadata": {
        "id": "z5FoCv3Nqbft"
      }
    },
    {
      "cell_type": "code",
      "source": [
        "from geneweaver.core.render.gene_list import gene_list_str"
      ],
      "metadata": {
        "id": "cvOXmHdDpMAb"
      },
      "execution_count": 46,
      "outputs": []
    },
    {
      "cell_type": "markdown",
      "source": [
        "Once you run the function below, copy the output and the head over to https://geneweaver.org/."
      ],
      "metadata": {
        "id": "ut61Ov0Uq-8q"
      }
    },
    {
      "cell_type": "code",
      "source": [
        "gene_list_str(geneset_values)"
      ],
      "metadata": {
        "id": "DH0vwF3kpbNR",
        "colab": {
          "base_uri": "https://localhost:8080/",
          "height": 122
        },
        "outputId": "342450a6-3518-4f0f-f761-f66850e58e56"
      },
      "execution_count": 47,
      "outputs": [
        {
          "output_type": "execute_result",
          "data": {
            "text/plain": [
              "'54512\\t1.0\\n203054\\t1.0\\n9684\\t1.0\\n28991\\t1.0\\n2843\\t1.0\\n100126351\\t1.0\\n93100\\t1.0\\n50626\\t1.0\\n1537\\t1.0\\n90990\\t1.0\\n51337\\t1.0\\n286075\\t1.0\\n100130274\\t1.0\\n642658\\t1.0\\n79581\\t1.0\\n575\\t1.0\\n8629\\t1.0\\n113655\\t1.0\\n340371\\t1.0\\n340385\\t1.0\\n22827\\t1.0\\n1936\\t1.0\\n375686\\t1.0\\n4796\\t1.0\\n2765\\t1.0\\n3297\\t1.0\\n9831\\t1.0\\n727957\\t1.0\\n58500\\t1.0\\n79943\\t1.0\\n137797\\t1.0\\n26873\\t1.0\\n5339\\t1.0\\n340390\\t1.0\\n79792\\t1.0\\n116447\\t1.0\\n389692\\t1.0\\n340393\\t1.0\\n23246\\t1.0\\n55630\\t1.0\\n286128\\t1.0\\n286103\\t1.0\\n286122\\t1.0\\n619434\\t1.0\\n225689\\t1.0\\n80778\\t1.0\\n2907\\t1.0\\n731779\\t1.0\\n54108\\t1.0\\n23237\\t1.0\\n84232\\t1.0\\n7564\\t1.0\\n57152\\t1.0\\n83481\\t1.0\\n286101\\t1.0\\n1584\\t1.0\\n83696\\t1.0\\n23513\\t1.0\\n8581\\t1.0\\n22898\\t1.0\\n57210\\t1.0\\n90987\\t1.0\\n78998\\t1.0\\n29894\\t1.0\\n389690\\t1.0\\n23144\\t1.0\\n7264\\t1.0\\n286077\\t1.0\\n54742\\t1.0\\n51160\\t1.0\\n441381\\t1.0\\n8733\\t1.0\\n100126338\\t1.0\\n8694\\t1.0\\n286102\\t1.0\\n100133669\\t1.0\\n51236\\t1.0\\n7553\\t1.0\\n414919\\t1.0\\n100616268\\t1.0\\n100616318\\t1.0\\n100288181\\t1.0\\n84875\\t1.0\\n8000\\t1.0\\n2738\\t1.0\\n84948\\t1.0\\n9401\\t1.0\\n100302196\\t1.0\\n83482\\t1.0\\n642475\\t1.0\\n65265\\t1.0\\n2875\\t1.0\\n286076\\t1.0\\n66004\\t1.0\\n81858\\t1.0\\n84988\\t1.0\\n203062\\t1.0\\n80728\\t1.0\\n26233\\t1.0\\n5747\\t1.0\\n724031\\t1.0\\n11156\\t1.0\\n8928\\t1.0\\n338328\\t1.0\\n65263\\t1.0\\n4062\\t1.0\\n114822\\t1.0\\n1585\\t1.0\\n4061\\t1.0\\n100129885\\t1.0\\n6132\\t1.0\\n27161\\t1.0'"
            ],
            "application/vnd.google.colaboratory.intrinsic+json": {
              "type": "string"
            }
          },
          "metadata": {},
          "execution_count": 47
        }
      ]
    },
    {
      "cell_type": "markdown",
      "source": [
        "### Geneweaver.org Instructions\n",
        "\n",
        "1) You will need to login if you haven't already.\n",
        "\n",
        "2) Head over to the \"Upload GeneSet\" page, found in the \"Magage GeneSets\" menu on the top right of the page.\n",
        "\n",
        "3) Once there, fill out the form, and remeber that we're dealing with data from\n",
        "human beings (aka \"Homo Sapiens\"), and decided ealier to use the \"Entrez\" as\n",
        "our Gene Identifier type.\n",
        "  - If you instead used the \"gene_names\" attribute of the dataset, you would select \"Gene Symbol\" as you Gene Identifiers type.\n",
        "\n",
        "4) Finally, paste the string value from the gene_list_str function we ran above,\n",
        "and click the \"Review GeneSet Upload\" to submit the dataset to Geneweaver for\n",
        "processing."
      ],
      "metadata": {
        "id": "XLeAj2QcrNcz"
      }
    }
  ]
}